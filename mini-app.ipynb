{
 "cells": [
  {
   "cell_type": "code",
   "execution_count": 7,
   "metadata": {},
   "outputs": [
    {
     "name": "stdout",
     "output_type": "stream",
     "text": [
      "\n",
      "        None | None | None\n",
      "        -------------\n",
      "        None | None | None\n",
      "        -------------\n",
      "        None | None | None\n",
      "        \n"
     ]
    }
   ],
   "source": [
    "MARks = {0: 'X', 1: 'O'}\n",
    "\n",
    "\n",
    "class Board:\n",
    "    def __init__(self):\n",
    "        self.state = [None] * 9\n",
    "        self.counter = 0\n",
    "    \n",
    "    def render(self):\n",
    "        text = \"\"\"\n",
    "        {} | {} | {}\n",
    "        -------------\n",
    "        {} | {} | {}\n",
    "        -------------\n",
    "        {} | {} | {}\n",
    "        \"\"\".format(*self.state)\n",
    "        print(text)\n",
    "\n",
    "    def is_win(self, player):\n",
    "        pass\n",
    "\n",
    "    def is_end(self):\n",
    "        pass\n",
    "\n",
    "board = Board()\n",
    "board.render()"
   ]
  }
 ],
 "metadata": {
  "kernelspec": {
   "display_name": "rl",
   "language": "python",
   "name": "python3"
  },
  "language_info": {
   "codemirror_mode": {
    "name": "ipython",
    "version": 3
   },
   "file_extension": ".py",
   "mimetype": "text/x-python",
   "name": "python",
   "nbconvert_exporter": "python",
   "pygments_lexer": "ipython3",
   "version": "3.8.17"
  },
  "orig_nbformat": 4
 },
 "nbformat": 4,
 "nbformat_minor": 2
}
