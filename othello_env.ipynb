{
 "cells": [
  {
   "cell_type": "code",
   "execution_count": 1,
   "metadata": {},
   "outputs": [
    {
     "name": "stderr",
     "output_type": "stream",
     "text": [
      "2023-08-15 11:06:28,529\tWARNING deprecation.py:50 -- DeprecationWarning: `DirectStepOptimizer` has been deprecated. This will raise an error in the future!\n",
      "2023-08-15 11:06:28,679\tWARNING deprecation.py:50 -- DeprecationWarning: `build_tf_policy` has been deprecated. This will raise an error in the future!\n",
      "2023-08-15 11:06:28,686\tWARNING deprecation.py:50 -- DeprecationWarning: `build_policy_class` has been deprecated. This will raise an error in the future!\n"
     ]
    }
   ],
   "source": [
    "import os\n",
    "import gymnasium as gym\n",
    "import numpy as np\n",
    "\n",
    "import ray\n",
    "from ray.tune.registry import register_env\n",
    "from ray.rllib.algorithms import ppo, dqn, appo, impala\n",
    "from ray.rllib.policy.policy import PolicySpec"
   ]
  },
  {
   "cell_type": "code",
   "execution_count": 2,
   "metadata": {},
   "outputs": [],
   "source": [
    "from rl.envs.othello import OthelloEnv\n",
    "from rl.agents.random_policy import OthelloRandomPolicy"
   ]
  },
  {
   "cell_type": "code",
   "execution_count": 3,
   "metadata": {},
   "outputs": [
    {
     "name": "stderr",
     "output_type": "stream",
     "text": [
      "2023-08-15 11:06:31,337\tINFO worker.py:1621 -- Started a local Ray instance.\n"
     ]
    },
    {
     "data": {
      "application/vnd.jupyter.widget-view+json": {
       "model_id": "28bea53f78ce49b88bea825d1e4de92f",
       "version_major": 2,
       "version_minor": 0
      },
      "text/html": [
       "<div class=\"lm-Widget p-Widget lm-Panel p-Panel jp-Cell-outputWrapper\">\n",
       "    <div style=\"margin-left: 50px;display: flex;flex-direction: row;align-items: center\">\n",
       "        <div class=\"jp-RenderedHTMLCommon\" style=\"display: flex; flex-direction: row;\">\n",
       "  <svg viewBox=\"0 0 567 224\" fill=\"none\" xmlns=\"http://www.w3.org/2000/svg\" style=\"height: 3em;\">\n",
       "    <g clip-path=\"url(#clip0_4338_178347)\">\n",
       "        <path d=\"M341.29 165.561H355.29L330.13 129.051C345.63 123.991 354.21 112.051 354.21 94.2307C354.21 71.3707 338.72 58.1807 311.88 58.1807H271V165.561H283.27V131.661H311.8C314.25 131.661 316.71 131.501 319.01 131.351L341.25 165.561H341.29ZM283.29 119.851V70.0007H311.82C331.3 70.0007 342.34 78.2907 342.34 94.5507C342.34 111.271 331.34 119.861 311.82 119.861L283.29 119.851ZM451.4 138.411L463.4 165.561H476.74L428.74 58.1807H416L367.83 165.561H380.83L392.83 138.411H451.4ZM446.19 126.601H398L422 72.1407L446.24 126.601H446.19ZM526.11 128.741L566.91 58.1807H554.35L519.99 114.181L485.17 58.1807H472.44L514.01 129.181V165.541H526.13V128.741H526.11Z\" fill=\"var(--jp-ui-font-color0)\"/>\n",
       "        <path d=\"M82.35 104.44C84.0187 97.8827 87.8248 92.0678 93.1671 87.9146C98.5094 83.7614 105.083 81.5067 111.85 81.5067C118.617 81.5067 125.191 83.7614 130.533 87.9146C135.875 92.0678 139.681 97.8827 141.35 104.44H163.75C164.476 101.562 165.622 98.8057 167.15 96.2605L127.45 56.5605C121.071 60.3522 113.526 61.6823 106.235 60.3005C98.9443 58.9187 92.4094 54.9203 87.8602 49.0574C83.3109 43.1946 81.0609 35.8714 81.5332 28.4656C82.0056 21.0599 85.1679 14.0819 90.4252 8.8446C95.6824 3.60726 102.672 0.471508 110.08 0.0272655C117.487 -0.416977 124.802 1.86091 130.647 6.4324C136.493 11.0039 140.467 17.5539 141.821 24.8501C143.175 32.1463 141.816 39.6859 138 46.0505L177.69 85.7505C182.31 82.9877 187.58 81.4995 192.962 81.4375C198.345 81.3755 203.648 82.742 208.33 85.3976C213.012 88.0532 216.907 91.9029 219.616 96.5544C222.326 101.206 223.753 106.492 223.753 111.875C223.753 117.258 222.326 122.545 219.616 127.197C216.907 131.848 213.012 135.698 208.33 138.353C203.648 141.009 198.345 142.375 192.962 142.313C187.58 142.251 182.31 140.763 177.69 138L138 177.7C141.808 184.071 143.155 191.614 141.79 198.91C140.424 206.205 136.44 212.75 130.585 217.313C124.731 221.875 117.412 224.141 110.004 223.683C102.596 223.226 95.6103 220.077 90.3621 214.828C85.1139 209.58 81.9647 202.595 81.5072 195.187C81.0497 187.779 83.3154 180.459 87.878 174.605C92.4405 168.751 98.9853 164.766 106.281 163.401C113.576 162.035 121.119 163.383 127.49 167.19L167.19 127.49C165.664 124.941 164.518 122.182 163.79 119.3H141.39C139.721 125.858 135.915 131.673 130.573 135.826C125.231 139.98 118.657 142.234 111.89 142.234C105.123 142.234 98.5494 139.98 93.2071 135.826C87.8648 131.673 84.0587 125.858 82.39 119.3H60C58.1878 126.495 53.8086 132.78 47.6863 136.971C41.5641 141.163 34.1211 142.972 26.7579 142.059C19.3947 141.146 12.6191 137.574 7.70605 132.014C2.79302 126.454 0.0813599 119.29 0.0813599 111.87C0.0813599 104.451 2.79302 97.2871 7.70605 91.7272C12.6191 86.1673 19.3947 82.5947 26.7579 81.6817C34.1211 80.7686 41.5641 82.5781 47.6863 86.7696C53.8086 90.9611 58.1878 97.2456 60 104.44H82.35ZM100.86 204.32C103.407 206.868 106.759 208.453 110.345 208.806C113.93 209.159 117.527 208.258 120.522 206.256C123.517 204.254 125.725 201.276 126.771 197.828C127.816 194.38 127.633 190.677 126.253 187.349C124.874 184.021 122.383 181.274 119.205 179.577C116.027 177.88 112.359 177.337 108.826 178.042C105.293 178.746 102.113 180.654 99.8291 183.44C97.5451 186.226 96.2979 189.718 96.3 193.32C96.2985 195.364 96.7006 197.388 97.4831 199.275C98.2656 201.163 99.4132 202.877 100.86 204.32ZM204.32 122.88C206.868 120.333 208.453 116.981 208.806 113.396C209.159 109.811 208.258 106.214 206.256 103.219C204.254 100.223 201.275 98.0151 197.827 96.97C194.38 95.9249 190.676 96.1077 187.348 97.4873C184.02 98.8669 181.274 101.358 179.577 104.536C177.879 107.714 177.337 111.382 178.041 114.915C178.746 118.448 180.653 121.627 183.439 123.911C186.226 126.195 189.717 127.443 193.32 127.44C195.364 127.443 197.388 127.042 199.275 126.259C201.163 125.476 202.878 124.328 204.32 122.88ZM122.88 19.4205C120.333 16.8729 116.981 15.2876 113.395 14.9347C109.81 14.5817 106.213 15.483 103.218 17.4849C100.223 19.4868 98.0146 22.4654 96.9696 25.9131C95.9245 29.3608 96.1073 33.0642 97.4869 36.3922C98.8665 39.7202 101.358 42.4668 104.535 44.1639C107.713 45.861 111.381 46.4036 114.914 45.6992C118.447 44.9949 121.627 43.0871 123.911 40.301C126.195 37.515 127.442 34.0231 127.44 30.4205C127.44 28.3772 127.038 26.3539 126.255 24.4664C125.473 22.5788 124.326 20.8642 122.88 19.4205ZM19.42 100.86C16.8725 103.408 15.2872 106.76 14.9342 110.345C14.5813 113.93 15.4826 117.527 17.4844 120.522C19.4863 123.518 22.4649 125.726 25.9127 126.771C29.3604 127.816 33.0638 127.633 36.3918 126.254C39.7198 124.874 42.4664 122.383 44.1635 119.205C45.8606 116.027 46.4032 112.359 45.6988 108.826C44.9944 105.293 43.0866 102.114 40.3006 99.8296C37.5145 97.5455 34.0227 96.2983 30.42 96.3005C26.2938 96.3018 22.337 97.9421 19.42 100.86ZM100.86 100.86C98.3125 103.408 96.7272 106.76 96.3742 110.345C96.0213 113.93 96.9226 117.527 98.9244 120.522C100.926 123.518 103.905 125.726 107.353 126.771C110.8 127.816 114.504 127.633 117.832 126.254C121.16 124.874 123.906 122.383 125.604 119.205C127.301 116.027 127.843 112.359 127.139 108.826C126.434 105.293 124.527 102.114 121.741 99.8296C118.955 97.5455 115.463 96.2983 111.86 96.3005C109.817 96.299 107.793 96.701 105.905 97.4835C104.018 98.2661 102.303 99.4136 100.86 100.86Z\" fill=\"#00AEEF\"/>\n",
       "    </g>\n",
       "    <defs>\n",
       "        <clipPath id=\"clip0_4338_178347\">\n",
       "            <rect width=\"566.93\" height=\"223.75\" fill=\"white\"/>\n",
       "        </clipPath>\n",
       "    </defs>\n",
       "  </svg>\n",
       "</div>\n",
       "\n",
       "        <table class=\"jp-RenderedHTMLCommon\" style=\"border-collapse: collapse;color: var(--jp-ui-font-color1);font-size: var(--jp-ui-font-size1);\">\n",
       "    <tr>\n",
       "        <td style=\"text-align: left\"><b>Python version:</b></td>\n",
       "        <td style=\"text-align: left\"><b>3.8.17</b></td>\n",
       "    </tr>\n",
       "    <tr>\n",
       "        <td style=\"text-align: left\"><b>Ray version:</b></td>\n",
       "        <td style=\"text-align: left\"><b>2.6.2</b></td>\n",
       "    </tr>\n",
       "    \n",
       "</table>\n",
       "\n",
       "    </div>\n",
       "</div>\n"
      ],
      "text/plain": [
       "RayContext(dashboard_url='', python_version='3.8.17', ray_version='2.6.2', ray_commit='92ad4bab9e93c7a207a44c65ab51295f92566cb4', protocol_version=None)"
      ]
     },
     "execution_count": 3,
     "metadata": {},
     "output_type": "execute_result"
    }
   ],
   "source": [
    "ray.init(include_dashboard=False)"
   ]
  },
  {
   "cell_type": "code",
   "execution_count": 4,
   "metadata": {},
   "outputs": [],
   "source": [
    "register_env(\"othello\", lambda _: OthelloEnv({}))"
   ]
  },
  {
   "cell_type": "code",
   "execution_count": 5,
   "metadata": {},
   "outputs": [
    {
     "name": "stderr",
     "output_type": "stream",
     "text": [
      "2023-08-15 11:06:33,585\tWARNING algorithm_config.py:2558 -- Setting `exploration_config={}` because you set `_enable_rl_module_api=True`. When RLModule API are enabled, exploration_config can not be set. If you want to implement custom exploration behaviour, please modify the `forward_exploration` method of the RLModule at hand. On configs that have a default exploration config, this must be done with `config.exploration_config={}`.\n",
      "2023-08-15 11:06:33,586\tWARNING algorithm_config.py:2572 -- Setting `exploration_config={'type': 'StochasticSampling'}` because you set `_enable_rl_module_api=False`. This exploration config was restored from a prior exploration config that was overriden when setting `_enable_rl_module_api=True`. This occurs because when RLModule API are enabled, exploration_config can not be set.\n"
     ]
    }
   ],
   "source": [
    "model_config = {\n",
    "    \"fcnet_hiddens\": [512, 512],\n",
    "}\n",
    "\n",
    "def policy_mapping_fn(agent_id, episode, worker, **kwargs):\n",
    "    agent_id = int(agent_id[-1]) - 1\n",
    "    return \"agent_1\" if episode.episode_id % 2 == agent_id else \"agent_2\"\n",
    "\n",
    "config = ppo.PPOConfig().environment(\"othello\").framework(\"torch\").rollouts(num_rollout_workers=os.cpu_count() // 2).resources(num_gpus=0)\n",
    "config = config.multi_agent(policies={\"agent_1\": PolicySpec(), \"agent_2\": PolicySpec(policy_class=OthelloRandomPolicy)}, policy_mapping_fn=policy_mapping_fn, policies_to_train=[\"agent_1\"])\n",
    "config = config.training(model=model_config, _enable_learner_api=False)\n",
    "config = config.rl_module(_enable_rl_module_api=False)\n",
    "# config = config.training(num_sgd_iter=10, model={\"conv_filters\": [[32, [3, 3], 1], [64, [3, 3], 1]]})\n",
    "# config = config.training(model={\"conv_filters\": [[32, [3, 3], 2], [64, [3, 3], 2]]}, _enable_learner_api=False)"
   ]
  },
  {
   "cell_type": "code",
   "execution_count": 6,
   "metadata": {},
   "outputs": [],
   "source": [
    "# import random\n",
    "# # multiagent environment for othello\n",
    "# env = OthelloEnv({})\n",
    "# obs, _ = env.reset()\n",
    "# terminated = False\n",
    "# current_player = \"agent_1\"\n",
    "# while not terminated:\n",
    "#     env.render()\n",
    "#     # action = env.action_space.sample()\n",
    "#     valid_actions = env.get_valid_moves(current_player)\n",
    "#     print(current_player, obs.keys())\n",
    "#     print(obs[current_player].shape)\n",
    "#     action = algo.compute_single_action(obs[current_player], policy_id=current_player)\n",
    "#     print(action)\n",
    "#     if len(valid_actions) > 0:\n",
    "#         action = random.choice(valid_actions)\n",
    "#     else:\n",
    "#         action = 64\n",
    "#     action = {current_player: action}\n",
    "#     obs, reward, terminated, truncated, _= env.step(action)\n",
    "#     reward = reward[current_player]\n",
    "#     terminated = terminated[current_player]\n",
    "#     truncated = truncated[current_player]\n",
    "#     current_player = env.current_player\n",
    "#     print(terminated, truncated, reward)"
   ]
  },
  {
   "cell_type": "code",
   "execution_count": 7,
   "metadata": {},
   "outputs": [
    {
     "data": {
      "text/html": [
       "<div class=\"tuneStatus\">\n",
       "  <div style=\"display: flex;flex-direction: row\">\n",
       "    <div style=\"display: flex;flex-direction: column;\">\n",
       "      <h3>Tune Status</h3>\n",
       "      <table>\n",
       "<tbody>\n",
       "<tr><td>Current time:</td><td>2023-08-15 13:00:06</td></tr>\n",
       "<tr><td>Running for: </td><td>01:53:32.57        </td></tr>\n",
       "<tr><td>Memory:      </td><td>11.7/15.9 GiB      </td></tr>\n",
       "</tbody>\n",
       "</table>\n",
       "    </div>\n",
       "    <div class=\"vDivider\"></div>\n",
       "    <div class=\"systemInfo\">\n",
       "      <h3>System Info</h3>\n",
       "      Using FIFO scheduling algorithm.<br>Logical resource usage: 9.0/16 CPUs, 0/1 GPUs\n",
       "    </div>\n",
       "    \n",
       "  </div>\n",
       "  <div class=\"hDivider\"></div>\n",
       "  <div class=\"trialStatus\">\n",
       "    <h3>Trial Status</h3>\n",
       "    <table>\n",
       "<thead>\n",
       "<tr><th>Trial name             </th><th>status  </th><th>loc            </th><th style=\"text-align: right;\">  iter</th><th style=\"text-align: right;\">  total time (s)</th><th style=\"text-align: right;\">     ts</th><th style=\"text-align: right;\">  reward</th><th style=\"text-align: right;\">  episode_reward_max</th><th style=\"text-align: right;\">  episode_reward_min</th><th style=\"text-align: right;\">  episode_len_mean</th></tr>\n",
       "</thead>\n",
       "<tbody>\n",
       "<tr><td>PPO_othello_5ba33_00000</td><td>RUNNING </td><td>127.0.0.1:12876</td><td style=\"text-align: right;\">   621</td><td style=\"text-align: right;\">         6727.72</td><td style=\"text-align: right;\">2484000</td><td style=\"text-align: right;\">-2.90586</td><td style=\"text-align: right;\">                  53</td><td style=\"text-align: right;\">                 -15</td><td style=\"text-align: right;\">           7.14742</td></tr>\n",
       "</tbody>\n",
       "</table>\n",
       "  </div>\n",
       "</div>\n",
       "<style>\n",
       ".tuneStatus {\n",
       "  color: var(--jp-ui-font-color1);\n",
       "}\n",
       ".tuneStatus .systemInfo {\n",
       "  display: flex;\n",
       "  flex-direction: column;\n",
       "}\n",
       ".tuneStatus td {\n",
       "  white-space: nowrap;\n",
       "}\n",
       ".tuneStatus .trialStatus {\n",
       "  display: flex;\n",
       "  flex-direction: column;\n",
       "}\n",
       ".tuneStatus h3 {\n",
       "  font-weight: bold;\n",
       "}\n",
       ".tuneStatus .hDivider {\n",
       "  border-bottom-width: var(--jp-border-width);\n",
       "  border-bottom-color: var(--jp-border-color0);\n",
       "  border-bottom-style: solid;\n",
       "}\n",
       ".tuneStatus .vDivider {\n",
       "  border-left-width: var(--jp-border-width);\n",
       "  border-left-color: var(--jp-border-color0);\n",
       "  border-left-style: solid;\n",
       "  margin: 0.5em 1em 0.5em 1em;\n",
       "}\n",
       "</style>\n"
      ],
      "text/plain": [
       "<IPython.core.display.HTML object>"
      ]
     },
     "metadata": {},
     "output_type": "display_data"
    },
    {
     "name": "stderr",
     "output_type": "stream",
     "text": [
      "2023-08-15 11:06:33,832\tWARNING algorithm_config.py:2558 -- Setting `exploration_config={}` because you set `_enable_rl_module_api=True`. When RLModule API are enabled, exploration_config can not be set. If you want to implement custom exploration behaviour, please modify the `forward_exploration` method of the RLModule at hand. On configs that have a default exploration config, this must be done with `config.exploration_config={}`.\n",
      "2023-08-15 11:06:33,833\tWARNING algorithm_config.py:2572 -- Setting `exploration_config={'type': 'StochasticSampling'}` because you set `_enable_rl_module_api=False`. This exploration config was restored from a prior exploration config that was overriden when setting `_enable_rl_module_api=True`. This occurs because when RLModule API are enabled, exploration_config can not be set.\n",
      "\u001b[2m\u001b[36m(pid=12876)\u001b[0m DeprecationWarning: `DirectStepOptimizer` has been deprecated. This will raise an error in the future!\n",
      "\u001b[2m\u001b[36m(PPO pid=12876)\u001b[0m 2023-08-15 11:06:38,481\tWARNING algorithm_config.py:2558 -- Setting `exploration_config={}` because you set `_enable_rl_module_api=True`. When RLModule API are enabled, exploration_config can not be set. If you want to implement custom exploration behaviour, please modify the `forward_exploration` method of the RLModule at hand. On configs that have a default exploration config, this must be done with `config.exploration_config={}`.\n",
      "\u001b[2m\u001b[36m(PPO pid=12876)\u001b[0m 2023-08-15 11:06:38,481\tWARNING algorithm_config.py:2572 -- Setting `exploration_config={'type': 'StochasticSampling'}` because you set `_enable_rl_module_api=False`. This exploration config was restored from a prior exploration config that was overriden when setting `_enable_rl_module_api=True`. This occurs because when RLModule API are enabled, exploration_config can not be set.\n",
      "\u001b[2m\u001b[36m(PPO pid=12876)\u001b[0m 2023-08-15 11:06:38,482\tWARNING algorithm_config.py:656 -- Cannot create PPOConfig from given `config_dict`! Property __stdout_file__ not supported.\n",
      "\u001b[2m\u001b[36m(pid=19944)\u001b[0m DeprecationWarning: `DirectStepOptimizer` has been deprecated. This will raise an error in the future!\n",
      "\u001b[2m\u001b[36m(pid=17568)\u001b[0m DeprecationWarning: `DirectStepOptimizer` has been deprecated. This will raise an error in the future!\n",
      "\u001b[2m\u001b[36m(RolloutWorker pid=19944)\u001b[0m 2023-08-15 11:06:45,366\tWARNING multi_agent_env.py:169 -- observation_space_contains() of <OthelloEnv instance> has not been implemented. You can either implement it yourself or bring the observation space into the preferred format of a mapping from agent ids to their individual observation spaces. \n",
      "\u001b[2m\u001b[36m(RolloutWorker pid=19944)\u001b[0m 2023-08-15 11:06:45,366\tWARNING multi_agent_env.py:169 -- observation_space_contains() of <OthelloEnv instance> has not been implemented. You can either implement it yourself or bring the observation space into the preferred format of a mapping from agent ids to their individual observation spaces. \n",
      "\u001b[2m\u001b[36m(RolloutWorker pid=19944)\u001b[0m 2023-08-15 11:06:45,366\tWARNING multi_agent_env.py:169 -- observation_space_contains() of <OthelloEnv instance> has not been implemented. You can either implement it yourself or bring the observation space into the preferred format of a mapping from agent ids to their individual observation spaces. \n",
      "\u001b[2m\u001b[36m(RolloutWorker pid=19944)\u001b[0m 2023-08-15 11:06:45,367\tWARNING multi_agent_env.py:237 -- action_space_sample() of <OthelloEnv instance> has not been implemented. You can either implement it yourself or bring the observation space into the preferred format of a mapping from agent ids to their individual observation spaces.\n",
      "\u001b[2m\u001b[36m(RolloutWorker pid=19944)\u001b[0m 2023-08-15 11:06:45,367\tWARNING multi_agent_env.py:169 -- observation_space_contains() of <OthelloEnv instance> has not been implemented. You can either implement it yourself or bring the observation space into the preferred format of a mapping from agent ids to their individual observation spaces. \n",
      "\u001b[2m\u001b[36m(RolloutWorker pid=17568)\u001b[0m 2023-08-15 11:06:45,320\tWARNING algorithm_config.py:2558 -- Setting `exploration_config={}` because you set `_enable_rl_module_api=True`. When RLModule API are enabled, exploration_config can not be set. If you want to implement custom exploration behaviour, please modify the `forward_exploration` method of the RLModule at hand. On configs that have a default exploration config, this must be done with `config.exploration_config={}`.\n",
      "\u001b[2m\u001b[36m(RolloutWorker pid=20128)\u001b[0m 2023-08-15 11:06:45,312\tWARNING multi_agent_env.py:274 -- observation_space_sample() of <OthelloEnv instance> has not been implemented. You can either implement it yourself or bring the observation space into the preferred format of a mapping from agent ids to their individual observation spaces. \n",
      "\u001b[2m\u001b[36m(RolloutWorker pid=20128)\u001b[0m 2023-08-15 11:06:45,313\tWARNING multi_agent_env.py:199 -- action_space_contains() of <OthelloEnv instance> has not been implemented. You can either implement it yourself or bring the observation space into the preferred format of a mapping from agent ids to their individual observation spaces. \n",
      "\u001b[2m\u001b[36m(RolloutWorker pid=20128)\u001b[0m 2023-08-15 11:06:45,319\tWARNING deprecation.py:50 -- DeprecationWarning: `ray.rllib.models.torch.fcnet.FullyConnectedNetwork` has been deprecated. This will raise an error in the future!\n",
      "\u001b[2m\u001b[36m(RolloutWorker pid=20128)\u001b[0m 2023-08-15 11:06:45,319\tWARNING deprecation.py:50 -- DeprecationWarning: `ray.rllib.models.torch.torch_modelv2.TorchModelV2` has been deprecated. Use `ray.rllib.core.rl_module.rl_module.RLModule` instead. This will raise an error in the future!\n",
      "\u001b[2m\u001b[36m(RolloutWorker pid=20128)\u001b[0m 2023-08-15 11:06:45,332\tWARNING deprecation.py:50 -- DeprecationWarning: `StochasticSampling` has been deprecated. This will raise an error in the future!\n",
      "\u001b[2m\u001b[36m(RolloutWorker pid=20128)\u001b[0m 2023-08-15 11:06:45,332\tWARNING deprecation.py:50 -- DeprecationWarning: `Exploration` has been deprecated. This will raise an error in the future!\n",
      "\u001b[2m\u001b[36m(RolloutWorker pid=20128)\u001b[0m 2023-08-15 11:06:45,332\tWARNING deprecation.py:50 -- DeprecationWarning: `Random` has been deprecated. This will raise an error in the future!\n",
      "\u001b[2m\u001b[36m(RolloutWorker pid=20128)\u001b[0m 2023-08-15 11:06:45,333\tWARNING deprecation.py:50 -- DeprecationWarning: `ValueNetworkMixin` has been deprecated. This will raise an error in the future!\n",
      "\u001b[2m\u001b[36m(RolloutWorker pid=20128)\u001b[0m 2023-08-15 11:06:45,333\tWARNING deprecation.py:50 -- DeprecationWarning: `LearningRateSchedule` has been deprecated. This will raise an error in the future!\n",
      "\u001b[2m\u001b[36m(RolloutWorker pid=20128)\u001b[0m 2023-08-15 11:06:45,333\tWARNING deprecation.py:50 -- DeprecationWarning: `EntropyCoeffSchedule` has been deprecated. This will raise an error in the future!\n",
      "\u001b[2m\u001b[36m(RolloutWorker pid=20128)\u001b[0m 2023-08-15 11:06:45,333\tWARNING deprecation.py:50 -- DeprecationWarning: `KLCoeffMixin` has been deprecated. This will raise an error in the future!\n",
      "\u001b[2m\u001b[36m(RolloutWorker pid=20128)\u001b[0m 2023-08-15 11:06:45,336\tWARNING deprecation.py:50 -- DeprecationWarning: `ray.rllib.models.torch.torch_action_dist.TorchDistributionWrapper` has been deprecated. Use `ray.rllib.models.torch.torch_distributions.TorchCategorical` instead. This will raise an error in the future!\n",
      "\u001b[2m\u001b[36m(PPO pid=12876)\u001b[0m Install gputil for GPU system monitoring.\n",
      "\u001b[2m\u001b[36m(PPO pid=12876)\u001b[0m 2023-08-15 11:06:47,450\tWARNING deprecation.py:50 -- DeprecationWarning: `ray.rllib.execution.train_ops.train_one_step` has been deprecated. This will raise an error in the future!\n",
      "\u001b[2m\u001b[36m(PPO pid=12876)\u001b[0m 2023-08-15 11:06:47,451\tWARNING deprecation.py:50 -- DeprecationWarning: `_get_slice_indices` has been deprecated. This will raise an error in the future!\n",
      "2023-08-15 11:11:36,184\tWARNING syncer.py:586 -- Last sync command failed: Sync process failed: [WinError 32] Failed copying 'C:/Users/nYoshiaki/ray_results/PPO/basic-variant-state-2023-08-15_09-27-46.json' to 'c:/Users/nYoshiaki/ray_results/PPO/basic-variant-state-2023-08-15_09-27-46.json'. Detail: [Windows error 32] �v���Z�X�̓t�@�C���ɃA�N�Z�X�ł��܂���B�ʂ̃v���Z�X���g�p���ł��B\n",
      "\n",
      "\u001b[2m\u001b[36m(PPO pid=12876)\u001b[0m 2023-08-15 11:16:36,311\tWARNING policy.py:137 -- Can not figure out a durable policy name for <class 'rl.agents.random_policy.OthelloRandomPolicy'>. You are probably trying to checkpoint a custom policy. Raw policy class may cause problems when the checkpoint needs to be loaded in the future. To fix this, make sure you add your custom policy in rllib.algorithms.registry.POLICIES.\n",
      "\u001b[2m\u001b[36m(PPO pid=12876)\u001b[0m Caught sync error: Sync process failed: [WinError 32] Failed copying 'C:/Users/nYoshiaki/ray_results/PPO/PPO_othello_5ba33_00000_0_2023-08-15_11-06-33/checkpoint_000050/.is_checkpoint' to 'c:///Users/nYoshiaki/ray_results/PPO/PPO_othello_5ba33_00000_0_2023-08-15_11-06-33/checkpoint_000050/.is_checkpoint'. Detail: [Windows error 32] �v���Z�X�̓t�@�C���ɃA�N�Z�X�ł��܂���B�ʂ̃v���Z�X���g�p���ł��B\n",
      "\u001b[2m\u001b[36m(PPO pid=12876)\u001b[0m . Retrying after sleeping for 1.0 seconds...\n",
      "\u001b[2m\u001b[36m(pid=16544)\u001b[0m DeprecationWarning: `DirectStepOptimizer` has been deprecated. This will raise an error in the future!\u001b[32m [repeated 6x across cluster] (Ray deduplicates logs by default. Set RAY_DEDUP_LOGS=0 to disable log deduplication, or see https://docs.ray.io/en/master/ray-observability/ray-logging.html#log-deduplication for more options.)\u001b[0m\n",
      "\u001b[2m\u001b[36m(RolloutWorker pid=16544)\u001b[0m 2023-08-15 11:06:45,425\tWARNING multi_agent_env.py:169 -- observation_space_contains() of <OthelloEnv instance> has not been implemented. You can either implement it yourself or bring the observation space into the preferred format of a mapping from agent ids to their individual observation spaces. \u001b[32m [repeated 28x across cluster]\u001b[0m\n",
      "\u001b[2m\u001b[36m(RolloutWorker pid=16544)\u001b[0m 2023-08-15 11:06:45,425\tWARNING multi_agent_env.py:237 -- action_space_sample() of <OthelloEnv instance> has not been implemented. You can either implement it yourself or bring the observation space into the preferred format of a mapping from agent ids to their individual observation spaces.\u001b[32m [repeated 7x across cluster]\u001b[0m\n",
      "\u001b[2m\u001b[36m(RolloutWorker pid=16544)\u001b[0m 2023-08-15 11:06:45,427\tWARNING algorithm_config.py:2558 -- Setting `exploration_config={}` because you set `_enable_rl_module_api=True`. When RLModule API are enabled, exploration_config can not be set. If you want to implement custom exploration behaviour, please modify the `forward_exploration` method of the RLModule at hand. On configs that have a default exploration config, this must be done with `config.exploration_config={}`.\u001b[32m [repeated 8x across cluster]\u001b[0m\n",
      "\u001b[2m\u001b[36m(PPO pid=12876)\u001b[0m 2023-08-15 11:06:45,466\tWARNING deprecation.py:50 -- DeprecationWarning: `ray.rllib.models.torch.fcnet.FullyConnectedNetwork` has been deprecated. This will raise an error in the future!\n",
      "\u001b[2m\u001b[36m(PPO pid=12876)\u001b[0m 2023-08-15 11:06:45,466\tWARNING deprecation.py:50 -- DeprecationWarning: `ray.rllib.models.torch.torch_modelv2.TorchModelV2` has been deprecated. Use `ray.rllib.core.rl_module.rl_module.RLModule` instead. This will raise an error in the future!\n",
      "\u001b[2m\u001b[36m(PPO pid=12876)\u001b[0m 2023-08-15 11:06:45,475\tWARNING deprecation.py:50 -- DeprecationWarning: `StochasticSampling` has been deprecated. This will raise an error in the future!\n",
      "\u001b[2m\u001b[36m(PPO pid=12876)\u001b[0m 2023-08-15 11:06:45,475\tWARNING deprecation.py:50 -- DeprecationWarning: `Exploration` has been deprecated. This will raise an error in the future!\n",
      "\u001b[2m\u001b[36m(PPO pid=12876)\u001b[0m 2023-08-15 11:06:45,475\tWARNING deprecation.py:50 -- DeprecationWarning: `Random` has been deprecated. This will raise an error in the future!\n",
      "\u001b[2m\u001b[36m(PPO pid=12876)\u001b[0m 2023-08-15 11:06:45,475\tWARNING deprecation.py:50 -- DeprecationWarning: `ValueNetworkMixin` has been deprecated. This will raise an error in the future!\n",
      "\u001b[2m\u001b[36m(PPO pid=12876)\u001b[0m 2023-08-15 11:06:45,475\tWARNING deprecation.py:50 -- DeprecationWarning: `LearningRateSchedule` has been deprecated. This will raise an error in the future!\n",
      "\u001b[2m\u001b[36m(PPO pid=12876)\u001b[0m 2023-08-15 11:06:45,475\tWARNING deprecation.py:50 -- DeprecationWarning: `EntropyCoeffSchedule` has been deprecated. This will raise an error in the future!\n",
      "\u001b[2m\u001b[36m(PPO pid=12876)\u001b[0m 2023-08-15 11:06:45,475\tWARNING deprecation.py:50 -- DeprecationWarning: `KLCoeffMixin` has been deprecated. This will raise an error in the future!\n",
      "\u001b[2m\u001b[36m(PPO pid=12876)\u001b[0m 2023-08-15 11:06:45,477\tWARNING deprecation.py:50 -- DeprecationWarning: `ray.rllib.models.torch.torch_action_dist.TorchDistributionWrapper` has been deprecated. Use `ray.rllib.models.torch.torch_distributions.TorchCategorical` instead. This will raise an error in the future!\n",
      "\u001b[2m\u001b[36m(PPO pid=12876)\u001b[0m Caught sync error: Sync process failed: [WinError 32] Failed copying 'C:/Users/nYoshiaki/ray_results/PPO/PPO_othello_5ba33_00000_0_2023-08-15_11-06-33/checkpoint_000050/.is_checkpoint' to '/Users/nYoshiaki/ray_results/PPO/PPO_othello_5ba33_00000_0_2023-08-15_11-06-33/checkpoint_000050/.is_checkpoint'. Detail: [Windows error 32] �v���Z�X�̓t�@�C���ɃA�N�Z�X�ł��܂���B�ʂ̃v���Z�X���g�p���ł��B\n",
      "\u001b[2m\u001b[36m(PPO pid=12876)\u001b[0m . Retrying after sleeping for 1.0 seconds...\n",
      "\u001b[2m\u001b[36m(PPO pid=12876)\u001b[0m Caught sync error: Sync process failed: [WinError 32] Failed copying 'C:/Users/nYoshiaki/ray_results/PPO/PPO_othello_5ba33_00000_0_2023-08-15_11-06-33/checkpoint_000050/.is_checkpoint' to '/Users/nYoshiaki/ray_results/PPO/PPO_othello_5ba33_00000_0_2023-08-15_11-06-33/checkpoint_000050/.is_checkpoint'. Detail: [Windows error 32] �v���Z�X�̓t�@�C���ɃA�N�Z�X�ł��܂���B�ʂ̃v���Z�X���g�p���ł��B\n",
      "\u001b[2m\u001b[36m(PPO pid=12876)\u001b[0m . Retrying after sleeping for 1.0 seconds...\n",
      "2023-08-15 11:16:38,397\tWARNING syncer.py:586 -- Last sync command failed: Sync process failed: [WinError 32] Failed copying 'C:/Users/nYoshiaki/ray_results/PPO/basic-variant-state-2023-08-15_09-27-46.json' to 'c:/Users/nYoshiaki/ray_results/PPO/basic-variant-state-2023-08-15_09-27-46.json'. Detail: [Windows error 32] �v���Z�X�̓t�@�C���ɃA�N�Z�X�ł��܂���B�ʂ̃v���Z�X���g�p���ł��B\n",
      "\n",
      "\u001b[2m\u001b[36m(PPO pid=12876)\u001b[0m Could not upload checkpoint to c://\\Users\\nYoshiaki\\ray_results\\PPO\\PPO_othello_5ba33_00000_0_2023-08-15_11-06-33\\checkpoint_000050 even after 3 retries.Please check if the credentials expired and that the remote filesystem is supported. For large checkpoints or artifacts, consider increasing `SyncConfig(sync_timeout)` (current value: 1800 seconds).\n",
      "2023-08-15 11:21:40,324\tWARNING syncer.py:586 -- Last sync command failed: Sync process failed: [WinError 32] Failed copying 'C:/Users/nYoshiaki/ray_results/PPO/basic-variant-state-2023-08-15_09-27-46.json' to 'c:/Users/nYoshiaki/ray_results/PPO/basic-variant-state-2023-08-15_09-27-46.json'. Detail: [Windows error 32] �v���Z�X�̓t�@�C���ɃA�N�Z�X�ł��܂���B�ʂ̃v���Z�X���g�p���ł��B\n",
      "\n",
      "2023-08-15 11:26:42,646\tWARNING syncer.py:586 -- Last sync command failed: Sync process failed: [WinError 32] Failed copying 'C:/Users/nYoshiaki/ray_results/PPO/basic-variant-state-2023-08-15_09-27-46.json' to 'c:/Users/nYoshiaki/ray_results/PPO/basic-variant-state-2023-08-15_09-27-46.json'. Detail: [Windows error 32] �v���Z�X�̓t�@�C���ɃA�N�Z�X�ł��܂���B�ʂ̃v���Z�X���g�p���ł��B\n",
      "\n",
      "\u001b[2m\u001b[36m(PPO pid=12876)\u001b[0m 2023-08-15 11:26:57,015\tWARNING policy.py:137 -- Can not figure out a durable policy name for <class 'rl.agents.random_policy.OthelloRandomPolicy'>. You are probably trying to checkpoint a custom policy. Raw policy class may cause problems when the checkpoint needs to be loaded in the future. To fix this, make sure you add your custom policy in rllib.algorithms.registry.POLICIES.\n",
      "\u001b[2m\u001b[36m(PPO pid=12876)\u001b[0m Last sync command failed: Sync process failed: [WinError 32] Failed copying 'C:/Users/nYoshiaki/ray_results/PPO/PPO_othello_5ba33_00000_0_2023-08-15_11-06-33/checkpoint_000050/.is_checkpoint' to '/Users/nYoshiaki/ray_results/PPO/PPO_othello_5ba33_00000_0_2023-08-15_11-06-33/checkpoint_000050/.is_checkpoint'. Detail: [Windows error 32] �v���Z�X�̓t�@�C���ɃA�N�Z�X�ł��܂���B�ʂ̃v���Z�X���g�p���ł��B\n",
      "\u001b[2m\u001b[36m(PPO pid=12876)\u001b[0m \n",
      "\u001b[2m\u001b[36m(PPO pid=12876)\u001b[0m Caught sync error: Sync process failed: [WinError 32] Failed copying 'C:/Users/nYoshiaki/ray_results/PPO/PPO_othello_5ba33_00000_0_2023-08-15_11-06-33/checkpoint_000100/.is_checkpoint' to 'c:///Users/nYoshiaki/ray_results/PPO/PPO_othello_5ba33_00000_0_2023-08-15_11-06-33/checkpoint_000100/.is_checkpoint'. Detail: [Windows error 32] �v���Z�X�̓t�@�C���ɃA�N�Z�X�ł��܂���B�ʂ̃v���Z�X���g�p���ł��B\n",
      "\u001b[2m\u001b[36m(PPO pid=12876)\u001b[0m . Retrying after sleeping for 1.0 seconds...\n",
      "\u001b[2m\u001b[36m(PPO pid=12876)\u001b[0m Caught sync error: Sync process failed: [WinError 32] Failed copying 'C:/Users/nYoshiaki/ray_results/PPO/PPO_othello_5ba33_00000_0_2023-08-15_11-06-33/checkpoint_000100/.is_checkpoint' to '/Users/nYoshiaki/ray_results/PPO/PPO_othello_5ba33_00000_0_2023-08-15_11-06-33/checkpoint_000100/.is_checkpoint'. Detail: [Windows error 32] �v���Z�X�̓t�@�C���ɃA�N�Z�X�ł��܂���B�ʂ̃v���Z�X���g�p���ł��B\n",
      "\u001b[2m\u001b[36m(PPO pid=12876)\u001b[0m . Retrying after sleeping for 1.0 seconds...\n",
      "\u001b[2m\u001b[36m(PPO pid=12876)\u001b[0m Caught sync error: Sync process failed: [WinError 32] Failed copying 'C:/Users/nYoshiaki/ray_results/PPO/PPO_othello_5ba33_00000_0_2023-08-15_11-06-33/checkpoint_000100/.is_checkpoint' to '/Users/nYoshiaki/ray_results/PPO/PPO_othello_5ba33_00000_0_2023-08-15_11-06-33/checkpoint_000100/.is_checkpoint'. Detail: [Windows error 32] �v���Z�X�̓t�@�C���ɃA�N�Z�X�ł��܂���B�ʂ̃v���Z�X���g�p���ł��B\n",
      "\u001b[2m\u001b[36m(PPO pid=12876)\u001b[0m . Retrying after sleeping for 1.0 seconds...\n",
      "\u001b[2m\u001b[36m(PPO pid=12876)\u001b[0m Could not upload checkpoint to c://\\Users\\nYoshiaki\\ray_results\\PPO\\PPO_othello_5ba33_00000_0_2023-08-15_11-06-33\\checkpoint_000100 even after 3 retries.Please check if the credentials expired and that the remote filesystem is supported. For large checkpoints or artifacts, consider increasing `SyncConfig(sync_timeout)` (current value: 1800 seconds).\n",
      "2023-08-15 11:31:44,642\tWARNING syncer.py:586 -- Last sync command failed: Sync process failed: [WinError 32] Failed copying 'C:/Users/nYoshiaki/ray_results/PPO/basic-variant-state-2023-08-15_09-27-46.json' to 'c:/Users/nYoshiaki/ray_results/PPO/basic-variant-state-2023-08-15_09-27-46.json'. Detail: [Windows error 32] �v���Z�X�̓t�@�C���ɃA�N�Z�X�ł��܂���B�ʂ̃v���Z�X���g�p���ł��B\n",
      "\n",
      "\u001b[2m\u001b[36m(PPO pid=12876)\u001b[0m 2023-08-15 11:36:42,148\tWARNING policy.py:137 -- Can not figure out a durable policy name for <class 'rl.agents.random_policy.OthelloRandomPolicy'>. You are probably trying to checkpoint a custom policy. Raw policy class may cause problems when the checkpoint needs to be loaded in the future. To fix this, make sure you add your custom policy in rllib.algorithms.registry.POLICIES.\n",
      "\u001b[2m\u001b[36m(PPO pid=12876)\u001b[0m Last sync command failed: Sync process failed: [WinError 32] Failed copying 'C:/Users/nYoshiaki/ray_results/PPO/PPO_othello_5ba33_00000_0_2023-08-15_11-06-33/checkpoint_000100/.is_checkpoint' to '/Users/nYoshiaki/ray_results/PPO/PPO_othello_5ba33_00000_0_2023-08-15_11-06-33/checkpoint_000100/.is_checkpoint'. Detail: [Windows error 32] �v���Z�X�̓t�@�C���ɃA�N�Z�X�ł��܂���B�ʂ̃v���Z�X���g�p���ł��B\n",
      "\u001b[2m\u001b[36m(PPO pid=12876)\u001b[0m \n",
      "\u001b[2m\u001b[36m(PPO pid=12876)\u001b[0m Caught sync error: Sync process failed: [WinError 32] Failed copying 'C:/Users/nYoshiaki/ray_results/PPO/PPO_othello_5ba33_00000_0_2023-08-15_11-06-33/checkpoint_000150/.is_checkpoint' to 'c:///Users/nYoshiaki/ray_results/PPO/PPO_othello_5ba33_00000_0_2023-08-15_11-06-33/checkpoint_000150/.is_checkpoint'. Detail: [Windows error 32] �v���Z�X�̓t�@�C���ɃA�N�Z�X�ł��܂���B�ʂ̃v���Z�X���g�p���ł��B\n",
      "\u001b[2m\u001b[36m(PPO pid=12876)\u001b[0m . Retrying after sleeping for 1.0 seconds...\n",
      "\u001b[2m\u001b[36m(PPO pid=12876)\u001b[0m Caught sync error: Sync process failed: [WinError 32] Failed copying 'C:/Users/nYoshiaki/ray_results/PPO/PPO_othello_5ba33_00000_0_2023-08-15_11-06-33/checkpoint_000150/.is_checkpoint' to '/Users/nYoshiaki/ray_results/PPO/PPO_othello_5ba33_00000_0_2023-08-15_11-06-33/checkpoint_000150/.is_checkpoint'. Detail: [Windows error 32] �v���Z�X�̓t�@�C���ɃA�N�Z�X�ł��܂���B�ʂ̃v���Z�X���g�p���ł��B\n",
      "\u001b[2m\u001b[36m(PPO pid=12876)\u001b[0m . Retrying after sleeping for 1.0 seconds...\n",
      "\u001b[2m\u001b[36m(PPO pid=12876)\u001b[0m Caught sync error: Sync process failed: [WinError 32] Failed copying 'C:/Users/nYoshiaki/ray_results/PPO/PPO_othello_5ba33_00000_0_2023-08-15_11-06-33/checkpoint_000150/.is_checkpoint' to '/Users/nYoshiaki/ray_results/PPO/PPO_othello_5ba33_00000_0_2023-08-15_11-06-33/checkpoint_000150/.is_checkpoint'. Detail: [Windows error 32] �v���Z�X�̓t�@�C���ɃA�N�Z�X�ł��܂���B�ʂ̃v���Z�X���g�p���ł��B\n",
      "\u001b[2m\u001b[36m(PPO pid=12876)\u001b[0m . Retrying after sleeping for 1.0 seconds...\n",
      "\u001b[2m\u001b[36m(PPO pid=12876)\u001b[0m Could not upload checkpoint to c://\\Users\\nYoshiaki\\ray_results\\PPO\\PPO_othello_5ba33_00000_0_2023-08-15_11-06-33\\checkpoint_000150 even after 3 retries.Please check if the credentials expired and that the remote filesystem is supported. For large checkpoints or artifacts, consider increasing `SyncConfig(sync_timeout)` (current value: 1800 seconds).\n",
      "2023-08-15 11:36:46,740\tWARNING syncer.py:586 -- Last sync command failed: Sync process failed: [WinError 32] Failed copying 'C:/Users/nYoshiaki/ray_results/PPO/basic-variant-state-2023-08-15_09-27-46.json' to 'c:/Users/nYoshiaki/ray_results/PPO/basic-variant-state-2023-08-15_09-27-46.json'. Detail: [Windows error 32] �v���Z�X�̓t�@�C���ɃA�N�Z�X�ł��܂���B�ʂ̃v���Z�X���g�p���ł��B\n",
      "\n",
      "2023-08-15 11:41:49,237\tWARNING syncer.py:586 -- Last sync command failed: Sync process failed: [WinError 32] Failed copying 'C:/Users/nYoshiaki/ray_results/PPO/basic-variant-state-2023-08-15_09-27-46.json' to 'c:/Users/nYoshiaki/ray_results/PPO/basic-variant-state-2023-08-15_09-27-46.json'. Detail: [Windows error 32] �v���Z�X�̓t�@�C���ɃA�N�Z�X�ł��܂���B�ʂ̃v���Z�X���g�p���ł��B\n",
      "\n",
      "\u001b[2m\u001b[36m(PPO pid=12876)\u001b[0m 2023-08-15 11:45:45,449\tWARNING policy.py:137 -- Can not figure out a durable policy name for <class 'rl.agents.random_policy.OthelloRandomPolicy'>. You are probably trying to checkpoint a custom policy. Raw policy class may cause problems when the checkpoint needs to be loaded in the future. To fix this, make sure you add your custom policy in rllib.algorithms.registry.POLICIES.\n",
      "\u001b[2m\u001b[36m(PPO pid=12876)\u001b[0m Last sync command failed: Sync process failed: [WinError 32] Failed copying 'C:/Users/nYoshiaki/ray_results/PPO/PPO_othello_5ba33_00000_0_2023-08-15_11-06-33/checkpoint_000150/.is_checkpoint' to '/Users/nYoshiaki/ray_results/PPO/PPO_othello_5ba33_00000_0_2023-08-15_11-06-33/checkpoint_000150/.is_checkpoint'. Detail: [Windows error 32] �v���Z�X�̓t�@�C���ɃA�N�Z�X�ł��܂���B�ʂ̃v���Z�X���g�p���ł��B\n",
      "\u001b[2m\u001b[36m(PPO pid=12876)\u001b[0m \n",
      "\u001b[2m\u001b[36m(PPO pid=12876)\u001b[0m Caught sync error: Sync process failed: [WinError 32] Failed copying 'C:/Users/nYoshiaki/ray_results/PPO/PPO_othello_5ba33_00000_0_2023-08-15_11-06-33/checkpoint_000200/.is_checkpoint' to 'c:///Users/nYoshiaki/ray_results/PPO/PPO_othello_5ba33_00000_0_2023-08-15_11-06-33/checkpoint_000200/.is_checkpoint'. Detail: [Windows error 32] �v���Z�X�̓t�@�C���ɃA�N�Z�X�ł��܂���B�ʂ̃v���Z�X���g�p���ł��B\n",
      "\u001b[2m\u001b[36m(PPO pid=12876)\u001b[0m . Retrying after sleeping for 1.0 seconds...\n",
      "\u001b[2m\u001b[36m(PPO pid=12876)\u001b[0m Caught sync error: Sync process failed: [WinError 32] Failed copying 'C:/Users/nYoshiaki/ray_results/PPO/PPO_othello_5ba33_00000_0_2023-08-15_11-06-33/checkpoint_000200/.is_checkpoint' to '/Users/nYoshiaki/ray_results/PPO/PPO_othello_5ba33_00000_0_2023-08-15_11-06-33/checkpoint_000200/.is_checkpoint'. Detail: [Windows error 32] �v���Z�X�̓t�@�C���ɃA�N�Z�X�ł��܂���B�ʂ̃v���Z�X���g�p���ł��B\n",
      "\u001b[2m\u001b[36m(PPO pid=12876)\u001b[0m . Retrying after sleeping for 1.0 seconds...\n",
      "\u001b[2m\u001b[36m(PPO pid=12876)\u001b[0m Caught sync error: Sync process failed: [WinError 32] Failed copying 'C:/Users/nYoshiaki/ray_results/PPO/PPO_othello_5ba33_00000_0_2023-08-15_11-06-33/checkpoint_000200/.is_checkpoint' to '/Users/nYoshiaki/ray_results/PPO/PPO_othello_5ba33_00000_0_2023-08-15_11-06-33/checkpoint_000200/.is_checkpoint'. Detail: [Windows error 32] �v���Z�X�̓t�@�C���ɃA�N�Z�X�ł��܂���B�ʂ̃v���Z�X���g�p���ł��B\n",
      "\u001b[2m\u001b[36m(PPO pid=12876)\u001b[0m . Retrying after sleeping for 1.0 seconds...\n",
      "\u001b[2m\u001b[36m(PPO pid=12876)\u001b[0m Could not upload checkpoint to c://\\Users\\nYoshiaki\\ray_results\\PPO\\PPO_othello_5ba33_00000_0_2023-08-15_11-06-33\\checkpoint_000200 even after 3 retries.Please check if the credentials expired and that the remote filesystem is supported. For large checkpoints or artifacts, consider increasing `SyncConfig(sync_timeout)` (current value: 1800 seconds).\n",
      "2023-08-15 11:46:51,451\tWARNING syncer.py:586 -- Last sync command failed: Sync process failed: [WinError 32] Failed copying 'C:/Users/nYoshiaki/ray_results/PPO/basic-variant-state-2023-08-15_09-27-46.json' to 'c:/Users/nYoshiaki/ray_results/PPO/basic-variant-state-2023-08-15_09-27-46.json'. Detail: [Windows error 32] �v���Z�X�̓t�@�C���ɃA�N�Z�X�ł��܂���B�ʂ̃v���Z�X���g�p���ł��B\n",
      "\n",
      "2023-08-15 11:51:54,172\tWARNING syncer.py:586 -- Last sync command failed: Sync process failed: [WinError 32] Failed copying 'C:/Users/nYoshiaki/ray_results/PPO/basic-variant-state-2023-08-15_09-27-46.json' to 'c:/Users/nYoshiaki/ray_results/PPO/basic-variant-state-2023-08-15_09-27-46.json'. Detail: [Windows error 32] �v���Z�X�̓t�@�C���ɃA�N�Z�X�ł��܂���B�ʂ̃v���Z�X���g�p���ł��B\n",
      "\n",
      "\u001b[2m\u001b[36m(PPO pid=12876)\u001b[0m 2023-08-15 11:54:47,873\tWARNING policy.py:137 -- Can not figure out a durable policy name for <class 'rl.agents.random_policy.OthelloRandomPolicy'>. You are probably trying to checkpoint a custom policy. Raw policy class may cause problems when the checkpoint needs to be loaded in the future. To fix this, make sure you add your custom policy in rllib.algorithms.registry.POLICIES.\n",
      "\u001b[2m\u001b[36m(PPO pid=12876)\u001b[0m Last sync command failed: Sync process failed: [WinError 32] Failed copying 'C:/Users/nYoshiaki/ray_results/PPO/PPO_othello_5ba33_00000_0_2023-08-15_11-06-33/checkpoint_000200/.is_checkpoint' to '/Users/nYoshiaki/ray_results/PPO/PPO_othello_5ba33_00000_0_2023-08-15_11-06-33/checkpoint_000200/.is_checkpoint'. Detail: [Windows error 32] �v���Z�X�̓t�@�C���ɃA�N�Z�X�ł��܂���B�ʂ̃v���Z�X���g�p���ł��B\n",
      "\u001b[2m\u001b[36m(PPO pid=12876)\u001b[0m \n",
      "\u001b[2m\u001b[36m(PPO pid=12876)\u001b[0m Caught sync error: Sync process failed: [WinError 32] Failed copying 'C:/Users/nYoshiaki/ray_results/PPO/PPO_othello_5ba33_00000_0_2023-08-15_11-06-33/checkpoint_000250/.is_checkpoint' to 'c:///Users/nYoshiaki/ray_results/PPO/PPO_othello_5ba33_00000_0_2023-08-15_11-06-33/checkpoint_000250/.is_checkpoint'. Detail: [Windows error 32] �v���Z�X�̓t�@�C���ɃA�N�Z�X�ł��܂���B�ʂ̃v���Z�X���g�p���ł��B\n",
      "\u001b[2m\u001b[36m(PPO pid=12876)\u001b[0m . Retrying after sleeping for 1.0 seconds...\n",
      "\u001b[2m\u001b[36m(PPO pid=12876)\u001b[0m Caught sync error: Sync process failed: [WinError 32] Failed copying 'C:/Users/nYoshiaki/ray_results/PPO/PPO_othello_5ba33_00000_0_2023-08-15_11-06-33/checkpoint_000250/.is_checkpoint' to '/Users/nYoshiaki/ray_results/PPO/PPO_othello_5ba33_00000_0_2023-08-15_11-06-33/checkpoint_000250/.is_checkpoint'. Detail: [Windows error 32] �v���Z�X�̓t�@�C���ɃA�N�Z�X�ł��܂���B�ʂ̃v���Z�X���g�p���ł��B\n",
      "\u001b[2m\u001b[36m(PPO pid=12876)\u001b[0m . Retrying after sleeping for 1.0 seconds...\n",
      "\u001b[2m\u001b[36m(PPO pid=12876)\u001b[0m Caught sync error: Sync process failed: [WinError 32] Failed copying 'C:/Users/nYoshiaki/ray_results/PPO/PPO_othello_5ba33_00000_0_2023-08-15_11-06-33/checkpoint_000250/.is_checkpoint' to '/Users/nYoshiaki/ray_results/PPO/PPO_othello_5ba33_00000_0_2023-08-15_11-06-33/checkpoint_000250/.is_checkpoint'. Detail: [Windows error 32] �v���Z�X�̓t�@�C���ɃA�N�Z�X�ł��܂���B�ʂ̃v���Z�X���g�p���ł��B\n",
      "\u001b[2m\u001b[36m(PPO pid=12876)\u001b[0m . Retrying after sleeping for 1.0 seconds...\n",
      "\u001b[2m\u001b[36m(PPO pid=12876)\u001b[0m Could not upload checkpoint to c://\\Users\\nYoshiaki\\ray_results\\PPO\\PPO_othello_5ba33_00000_0_2023-08-15_11-06-33\\checkpoint_000250 even after 3 retries.Please check if the credentials expired and that the remote filesystem is supported. For large checkpoints or artifacts, consider increasing `SyncConfig(sync_timeout)` (current value: 1800 seconds).\n",
      "2023-08-15 11:56:56,996\tWARNING syncer.py:586 -- Last sync command failed: Sync process failed: [WinError 32] Failed copying 'C:/Users/nYoshiaki/ray_results/PPO/basic-variant-state-2023-08-15_09-27-46.json' to 'c:/Users/nYoshiaki/ray_results/PPO/basic-variant-state-2023-08-15_09-27-46.json'. Detail: [Windows error 32] �v���Z�X�̓t�@�C���ɃA�N�Z�X�ł��܂���B�ʂ̃v���Z�X���g�p���ł��B\n",
      "\n",
      "2023-08-15 12:01:59,577\tWARNING syncer.py:586 -- Last sync command failed: Sync process failed: [WinError 32] Failed copying 'C:/Users/nYoshiaki/ray_results/PPO/basic-variant-state-2023-08-15_09-27-46.json' to 'c:/Users/nYoshiaki/ray_results/PPO/basic-variant-state-2023-08-15_09-27-46.json'. Detail: [Windows error 32] �v���Z�X�̓t�@�C���ɃA�N�Z�X�ł��܂���B�ʂ̃v���Z�X���g�p���ł��B\n",
      "\n",
      "\u001b[2m\u001b[36m(PPO pid=12876)\u001b[0m 2023-08-15 12:03:39,940\tWARNING policy.py:137 -- Can not figure out a durable policy name for <class 'rl.agents.random_policy.OthelloRandomPolicy'>. You are probably trying to checkpoint a custom policy. Raw policy class may cause problems when the checkpoint needs to be loaded in the future. To fix this, make sure you add your custom policy in rllib.algorithms.registry.POLICIES.\n",
      "\u001b[2m\u001b[36m(PPO pid=12876)\u001b[0m Last sync command failed: Sync process failed: [WinError 32] Failed copying 'C:/Users/nYoshiaki/ray_results/PPO/PPO_othello_5ba33_00000_0_2023-08-15_11-06-33/checkpoint_000250/.is_checkpoint' to '/Users/nYoshiaki/ray_results/PPO/PPO_othello_5ba33_00000_0_2023-08-15_11-06-33/checkpoint_000250/.is_checkpoint'. Detail: [Windows error 32] �v���Z�X�̓t�@�C���ɃA�N�Z�X�ł��܂���B�ʂ̃v���Z�X���g�p���ł��B\n",
      "\u001b[2m\u001b[36m(PPO pid=12876)\u001b[0m \n",
      "\u001b[2m\u001b[36m(PPO pid=12876)\u001b[0m Caught sync error: Sync process failed: [WinError 32] Failed copying 'C:/Users/nYoshiaki/ray_results/PPO/PPO_othello_5ba33_00000_0_2023-08-15_11-06-33/checkpoint_000300/.is_checkpoint' to 'c:///Users/nYoshiaki/ray_results/PPO/PPO_othello_5ba33_00000_0_2023-08-15_11-06-33/checkpoint_000300/.is_checkpoint'. Detail: [Windows error 32] �v���Z�X�̓t�@�C���ɃA�N�Z�X�ł��܂���B�ʂ̃v���Z�X���g�p���ł��B\n",
      "\u001b[2m\u001b[36m(PPO pid=12876)\u001b[0m . Retrying after sleeping for 1.0 seconds...\n",
      "\u001b[2m\u001b[36m(PPO pid=12876)\u001b[0m Caught sync error: Sync process failed: [WinError 32] Failed copying 'C:/Users/nYoshiaki/ray_results/PPO/PPO_othello_5ba33_00000_0_2023-08-15_11-06-33/checkpoint_000300/.is_checkpoint' to '/Users/nYoshiaki/ray_results/PPO/PPO_othello_5ba33_00000_0_2023-08-15_11-06-33/checkpoint_000300/.is_checkpoint'. Detail: [Windows error 32] �v���Z�X�̓t�@�C���ɃA�N�Z�X�ł��܂���B�ʂ̃v���Z�X���g�p���ł��B\n",
      "\u001b[2m\u001b[36m(PPO pid=12876)\u001b[0m . Retrying after sleeping for 1.0 seconds...\n",
      "\u001b[2m\u001b[36m(PPO pid=12876)\u001b[0m Caught sync error: Sync process failed: [WinError 32] Failed copying 'C:/Users/nYoshiaki/ray_results/PPO/PPO_othello_5ba33_00000_0_2023-08-15_11-06-33/checkpoint_000300/.is_checkpoint' to '/Users/nYoshiaki/ray_results/PPO/PPO_othello_5ba33_00000_0_2023-08-15_11-06-33/checkpoint_000300/.is_checkpoint'. Detail: [Windows error 32] �v���Z�X�̓t�@�C���ɃA�N�Z�X�ł��܂���B�ʂ̃v���Z�X���g�p���ł��B\n",
      "\u001b[2m\u001b[36m(PPO pid=12876)\u001b[0m . Retrying after sleeping for 1.0 seconds...\n",
      "\u001b[2m\u001b[36m(PPO pid=12876)\u001b[0m Could not upload checkpoint to c://\\Users\\nYoshiaki\\ray_results\\PPO\\PPO_othello_5ba33_00000_0_2023-08-15_11-06-33\\checkpoint_000300 even after 3 retries.Please check if the credentials expired and that the remote filesystem is supported. For large checkpoints or artifacts, consider increasing `SyncConfig(sync_timeout)` (current value: 1800 seconds).\n",
      "2023-08-15 12:07:02,212\tWARNING syncer.py:586 -- Last sync command failed: Sync process failed: [WinError 32] Failed copying 'C:/Users/nYoshiaki/ray_results/PPO/basic-variant-state-2023-08-15_09-27-46.json' to 'c:/Users/nYoshiaki/ray_results/PPO/basic-variant-state-2023-08-15_09-27-46.json'. Detail: [Windows error 32] �v���Z�X�̓t�@�C���ɃA�N�Z�X�ł��܂���B�ʂ̃v���Z�X���g�p���ł��B\n",
      "\n",
      "2023-08-15 12:12:05,117\tWARNING syncer.py:586 -- Last sync command failed: Sync process failed: [WinError 32] Failed copying 'C:/Users/nYoshiaki/ray_results/PPO/basic-variant-state-2023-08-15_09-27-46.json' to 'c:/Users/nYoshiaki/ray_results/PPO/basic-variant-state-2023-08-15_09-27-46.json'. Detail: [Windows error 32] �v���Z�X�̓t�@�C���ɃA�N�Z�X�ł��܂���B�ʂ̃v���Z�X���g�p���ł��B\n",
      "\n",
      "\u001b[2m\u001b[36m(PPO pid=12876)\u001b[0m 2023-08-15 12:12:27,480\tWARNING policy.py:137 -- Can not figure out a durable policy name for <class 'rl.agents.random_policy.OthelloRandomPolicy'>. You are probably trying to checkpoint a custom policy. Raw policy class may cause problems when the checkpoint needs to be loaded in the future. To fix this, make sure you add your custom policy in rllib.algorithms.registry.POLICIES.\n",
      "\u001b[2m\u001b[36m(PPO pid=12876)\u001b[0m Last sync command failed: Sync process failed: [WinError 32] Failed copying 'C:/Users/nYoshiaki/ray_results/PPO/PPO_othello_5ba33_00000_0_2023-08-15_11-06-33/checkpoint_000300/.is_checkpoint' to '/Users/nYoshiaki/ray_results/PPO/PPO_othello_5ba33_00000_0_2023-08-15_11-06-33/checkpoint_000300/.is_checkpoint'. Detail: [Windows error 32] �v���Z�X�̓t�@�C���ɃA�N�Z�X�ł��܂���B�ʂ̃v���Z�X���g�p���ł��B\n",
      "\u001b[2m\u001b[36m(PPO pid=12876)\u001b[0m \n",
      "\u001b[2m\u001b[36m(PPO pid=12876)\u001b[0m Caught sync error: Sync process failed: [WinError 32] Failed copying 'C:/Users/nYoshiaki/ray_results/PPO/PPO_othello_5ba33_00000_0_2023-08-15_11-06-33/checkpoint_000350/.is_checkpoint' to 'c:///Users/nYoshiaki/ray_results/PPO/PPO_othello_5ba33_00000_0_2023-08-15_11-06-33/checkpoint_000350/.is_checkpoint'. Detail: [Windows error 32] �v���Z�X�̓t�@�C���ɃA�N�Z�X�ł��܂���B�ʂ̃v���Z�X���g�p���ł��B\n",
      "\u001b[2m\u001b[36m(PPO pid=12876)\u001b[0m . Retrying after sleeping for 1.0 seconds...\n",
      "\u001b[2m\u001b[36m(PPO pid=12876)\u001b[0m Caught sync error: Sync process failed: [WinError 32] Failed copying 'C:/Users/nYoshiaki/ray_results/PPO/PPO_othello_5ba33_00000_0_2023-08-15_11-06-33/checkpoint_000350/.is_checkpoint' to '/Users/nYoshiaki/ray_results/PPO/PPO_othello_5ba33_00000_0_2023-08-15_11-06-33/checkpoint_000350/.is_checkpoint'. Detail: [Windows error 32] �v���Z�X�̓t�@�C���ɃA�N�Z�X�ł��܂���B�ʂ̃v���Z�X���g�p���ł��B\n",
      "\u001b[2m\u001b[36m(PPO pid=12876)\u001b[0m . Retrying after sleeping for 1.0 seconds...\n",
      "\u001b[2m\u001b[36m(PPO pid=12876)\u001b[0m Caught sync error: Sync process failed: [WinError 32] Failed copying 'C:/Users/nYoshiaki/ray_results/PPO/PPO_othello_5ba33_00000_0_2023-08-15_11-06-33/checkpoint_000350/.is_checkpoint' to '/Users/nYoshiaki/ray_results/PPO/PPO_othello_5ba33_00000_0_2023-08-15_11-06-33/checkpoint_000350/.is_checkpoint'. Detail: [Windows error 32] �v���Z�X�̓t�@�C���ɃA�N�Z�X�ł��܂���B�ʂ̃v���Z�X���g�p���ł��B\n",
      "\u001b[2m\u001b[36m(PPO pid=12876)\u001b[0m . Retrying after sleeping for 1.0 seconds...\n",
      "\u001b[2m\u001b[36m(PPO pid=12876)\u001b[0m Could not upload checkpoint to c://\\Users\\nYoshiaki\\ray_results\\PPO\\PPO_othello_5ba33_00000_0_2023-08-15_11-06-33\\checkpoint_000350 even after 3 retries.Please check if the credentials expired and that the remote filesystem is supported. For large checkpoints or artifacts, consider increasing `SyncConfig(sync_timeout)` (current value: 1800 seconds).\n",
      "2023-08-15 12:17:07,474\tWARNING syncer.py:586 -- Last sync command failed: Sync process failed: [WinError 32] Failed copying 'C:/Users/nYoshiaki/ray_results/PPO/basic-variant-state-2023-08-15_09-27-46.json' to 'c:/Users/nYoshiaki/ray_results/PPO/basic-variant-state-2023-08-15_09-27-46.json'. Detail: [Windows error 32] �v���Z�X�̓t�@�C���ɃA�N�Z�X�ł��܂���B�ʂ̃v���Z�X���g�p���ł��B\n",
      "\n",
      "\u001b[2m\u001b[36m(PPO pid=12876)\u001b[0m 2023-08-15 12:21:21,953\tWARNING policy.py:137 -- Can not figure out a durable policy name for <class 'rl.agents.random_policy.OthelloRandomPolicy'>. You are probably trying to checkpoint a custom policy. Raw policy class may cause problems when the checkpoint needs to be loaded in the future. To fix this, make sure you add your custom policy in rllib.algorithms.registry.POLICIES.\n",
      "\u001b[2m\u001b[36m(PPO pid=12876)\u001b[0m Last sync command failed: Sync process failed: [WinError 32] Failed copying 'C:/Users/nYoshiaki/ray_results/PPO/PPO_othello_5ba33_00000_0_2023-08-15_11-06-33/checkpoint_000350/.is_checkpoint' to '/Users/nYoshiaki/ray_results/PPO/PPO_othello_5ba33_00000_0_2023-08-15_11-06-33/checkpoint_000350/.is_checkpoint'. Detail: [Windows error 32] �v���Z�X�̓t�@�C���ɃA�N�Z�X�ł��܂���B�ʂ̃v���Z�X���g�p���ł��B\n",
      "\u001b[2m\u001b[36m(PPO pid=12876)\u001b[0m \n",
      "\u001b[2m\u001b[36m(PPO pid=12876)\u001b[0m Caught sync error: Sync process failed: [WinError 32] Failed copying 'C:/Users/nYoshiaki/ray_results/PPO/PPO_othello_5ba33_00000_0_2023-08-15_11-06-33/checkpoint_000400/.is_checkpoint' to 'c:///Users/nYoshiaki/ray_results/PPO/PPO_othello_5ba33_00000_0_2023-08-15_11-06-33/checkpoint_000400/.is_checkpoint'. Detail: [Windows error 32] �v���Z�X�̓t�@�C���ɃA�N�Z�X�ł��܂���B�ʂ̃v���Z�X���g�p���ł��B\n",
      "\u001b[2m\u001b[36m(PPO pid=12876)\u001b[0m . Retrying after sleeping for 1.0 seconds...\n",
      "\u001b[2m\u001b[36m(PPO pid=12876)\u001b[0m Caught sync error: Sync process failed: [WinError 32] Failed copying 'C:/Users/nYoshiaki/ray_results/PPO/PPO_othello_5ba33_00000_0_2023-08-15_11-06-33/checkpoint_000400/.is_checkpoint' to '/Users/nYoshiaki/ray_results/PPO/PPO_othello_5ba33_00000_0_2023-08-15_11-06-33/checkpoint_000400/.is_checkpoint'. Detail: [Windows error 32] �v���Z�X�̓t�@�C���ɃA�N�Z�X�ł��܂���B�ʂ̃v���Z�X���g�p���ł��B\n",
      "\u001b[2m\u001b[36m(PPO pid=12876)\u001b[0m . Retrying after sleeping for 1.0 seconds...\n",
      "\u001b[2m\u001b[36m(PPO pid=12876)\u001b[0m Caught sync error: Sync process failed: [WinError 32] Failed copying 'C:/Users/nYoshiaki/ray_results/PPO/PPO_othello_5ba33_00000_0_2023-08-15_11-06-33/checkpoint_000400/.is_checkpoint' to '/Users/nYoshiaki/ray_results/PPO/PPO_othello_5ba33_00000_0_2023-08-15_11-06-33/checkpoint_000400/.is_checkpoint'. Detail: [Windows error 32] �v���Z�X�̓t�@�C���ɃA�N�Z�X�ł��܂���B�ʂ̃v���Z�X���g�p���ł��B\n",
      "\u001b[2m\u001b[36m(PPO pid=12876)\u001b[0m . Retrying after sleeping for 1.0 seconds...\n",
      "\u001b[2m\u001b[36m(PPO pid=12876)\u001b[0m Could not upload checkpoint to c://\\Users\\nYoshiaki\\ray_results\\PPO\\PPO_othello_5ba33_00000_0_2023-08-15_11-06-33\\checkpoint_000400 even after 3 retries.Please check if the credentials expired and that the remote filesystem is supported. For large checkpoints or artifacts, consider increasing `SyncConfig(sync_timeout)` (current value: 1800 seconds).\n",
      "2023-08-15 12:22:10,611\tWARNING syncer.py:586 -- Last sync command failed: Sync process failed: [WinError 32] Failed copying 'C:/Users/nYoshiaki/ray_results/PPO/basic-variant-state-2023-08-15_09-27-46.json' to 'c:/Users/nYoshiaki/ray_results/PPO/basic-variant-state-2023-08-15_09-27-46.json'. Detail: [Windows error 32] �v���Z�X�̓t�@�C���ɃA�N�Z�X�ł��܂���B�ʂ̃v���Z�X���g�p���ł��B\n",
      "\n",
      "2023-08-15 12:27:13,534\tWARNING syncer.py:586 -- Last sync command failed: Sync process failed: [WinError 32] Failed copying 'C:/Users/nYoshiaki/ray_results/PPO/basic-variant-state-2023-08-15_09-27-46.json' to 'c:/Users/nYoshiaki/ray_results/PPO/basic-variant-state-2023-08-15_09-27-46.json'. Detail: [Windows error 32] �v���Z�X�̓t�@�C���ɃA�N�Z�X�ł��܂���B�ʂ̃v���Z�X���g�p���ł��B\n",
      "\n",
      "\u001b[2m\u001b[36m(PPO pid=12876)\u001b[0m 2023-08-15 12:30:04,478\tWARNING policy.py:137 -- Can not figure out a durable policy name for <class 'rl.agents.random_policy.OthelloRandomPolicy'>. You are probably trying to checkpoint a custom policy. Raw policy class may cause problems when the checkpoint needs to be loaded in the future. To fix this, make sure you add your custom policy in rllib.algorithms.registry.POLICIES.\n",
      "\u001b[2m\u001b[36m(PPO pid=12876)\u001b[0m Last sync command failed: Sync process failed: [WinError 32] Failed copying 'C:/Users/nYoshiaki/ray_results/PPO/PPO_othello_5ba33_00000_0_2023-08-15_11-06-33/checkpoint_000400/.is_checkpoint' to '/Users/nYoshiaki/ray_results/PPO/PPO_othello_5ba33_00000_0_2023-08-15_11-06-33/checkpoint_000400/.is_checkpoint'. Detail: [Windows error 32] �v���Z�X�̓t�@�C���ɃA�N�Z�X�ł��܂���B�ʂ̃v���Z�X���g�p���ł��B\n",
      "\u001b[2m\u001b[36m(PPO pid=12876)\u001b[0m \n",
      "\u001b[2m\u001b[36m(PPO pid=12876)\u001b[0m Caught sync error: Sync process failed: [WinError 32] Failed copying 'C:/Users/nYoshiaki/ray_results/PPO/PPO_othello_5ba33_00000_0_2023-08-15_11-06-33/checkpoint_000450/.is_checkpoint' to 'c:///Users/nYoshiaki/ray_results/PPO/PPO_othello_5ba33_00000_0_2023-08-15_11-06-33/checkpoint_000450/.is_checkpoint'. Detail: [Windows error 32] �v���Z�X�̓t�@�C���ɃA�N�Z�X�ł��܂���B�ʂ̃v���Z�X���g�p���ł��B\n",
      "\u001b[2m\u001b[36m(PPO pid=12876)\u001b[0m . Retrying after sleeping for 1.0 seconds...\n",
      "\u001b[2m\u001b[36m(PPO pid=12876)\u001b[0m Caught sync error: Sync process failed: [WinError 32] Failed copying 'C:/Users/nYoshiaki/ray_results/PPO/PPO_othello_5ba33_00000_0_2023-08-15_11-06-33/checkpoint_000450/.is_checkpoint' to '/Users/nYoshiaki/ray_results/PPO/PPO_othello_5ba33_00000_0_2023-08-15_11-06-33/checkpoint_000450/.is_checkpoint'. Detail: [Windows error 32] �v���Z�X�̓t�@�C���ɃA�N�Z�X�ł��܂���B�ʂ̃v���Z�X���g�p���ł��B\n",
      "\u001b[2m\u001b[36m(PPO pid=12876)\u001b[0m . Retrying after sleeping for 1.0 seconds...\n",
      "\u001b[2m\u001b[36m(PPO pid=12876)\u001b[0m Caught sync error: Sync process failed: [WinError 32] Failed copying 'C:/Users/nYoshiaki/ray_results/PPO/PPO_othello_5ba33_00000_0_2023-08-15_11-06-33/checkpoint_000450/.is_checkpoint' to '/Users/nYoshiaki/ray_results/PPO/PPO_othello_5ba33_00000_0_2023-08-15_11-06-33/checkpoint_000450/.is_checkpoint'. Detail: [Windows error 32] �v���Z�X�̓t�@�C���ɃA�N�Z�X�ł��܂���B�ʂ̃v���Z�X���g�p���ł��B\n",
      "\u001b[2m\u001b[36m(PPO pid=12876)\u001b[0m . Retrying after sleeping for 1.0 seconds...\n",
      "\u001b[2m\u001b[36m(PPO pid=12876)\u001b[0m Could not upload checkpoint to c://\\Users\\nYoshiaki\\ray_results\\PPO\\PPO_othello_5ba33_00000_0_2023-08-15_11-06-33\\checkpoint_000450 even after 3 retries.Please check if the credentials expired and that the remote filesystem is supported. For large checkpoints or artifacts, consider increasing `SyncConfig(sync_timeout)` (current value: 1800 seconds).\n",
      "2023-08-15 12:32:16,553\tWARNING syncer.py:586 -- Last sync command failed: Sync process failed: [WinError 32] Failed copying 'C:/Users/nYoshiaki/ray_results/PPO/basic-variant-state-2023-08-15_09-27-46.json' to 'c:/Users/nYoshiaki/ray_results/PPO/basic-variant-state-2023-08-15_09-27-46.json'. Detail: [Windows error 32] �v���Z�X�̓t�@�C���ɃA�N�Z�X�ł��܂���B�ʂ̃v���Z�X���g�p���ł��B\n",
      "\n",
      "2023-08-15 12:37:19,486\tWARNING syncer.py:586 -- Last sync command failed: Sync process failed: [WinError 32] Failed copying 'C:/Users/nYoshiaki/ray_results/PPO/basic-variant-state-2023-08-15_09-27-46.json' to 'c:/Users/nYoshiaki/ray_results/PPO/basic-variant-state-2023-08-15_09-27-46.json'. Detail: [Windows error 32] �v���Z�X�̓t�@�C���ɃA�N�Z�X�ł��܂���B�ʂ̃v���Z�X���g�p���ł��B\n",
      "\n",
      "\u001b[2m\u001b[36m(PPO pid=12876)\u001b[0m 2023-08-15 12:38:49,482\tWARNING policy.py:137 -- Can not figure out a durable policy name for <class 'rl.agents.random_policy.OthelloRandomPolicy'>. You are probably trying to checkpoint a custom policy. Raw policy class may cause problems when the checkpoint needs to be loaded in the future. To fix this, make sure you add your custom policy in rllib.algorithms.registry.POLICIES.\n",
      "\u001b[2m\u001b[36m(PPO pid=12876)\u001b[0m Last sync command failed: Sync process failed: [WinError 32] Failed copying 'C:/Users/nYoshiaki/ray_results/PPO/PPO_othello_5ba33_00000_0_2023-08-15_11-06-33/checkpoint_000450/.is_checkpoint' to '/Users/nYoshiaki/ray_results/PPO/PPO_othello_5ba33_00000_0_2023-08-15_11-06-33/checkpoint_000450/.is_checkpoint'. Detail: [Windows error 32] �v���Z�X�̓t�@�C���ɃA�N�Z�X�ł��܂���B�ʂ̃v���Z�X���g�p���ł��B\n",
      "\u001b[2m\u001b[36m(PPO pid=12876)\u001b[0m \n",
      "\u001b[2m\u001b[36m(PPO pid=12876)\u001b[0m Caught sync error: Sync process failed: [WinError 32] Failed copying 'C:/Users/nYoshiaki/ray_results/PPO/PPO_othello_5ba33_00000_0_2023-08-15_11-06-33/checkpoint_000500/.is_checkpoint' to 'c:///Users/nYoshiaki/ray_results/PPO/PPO_othello_5ba33_00000_0_2023-08-15_11-06-33/checkpoint_000500/.is_checkpoint'. Detail: [Windows error 32] �v���Z�X�̓t�@�C���ɃA�N�Z�X�ł��܂���B�ʂ̃v���Z�X���g�p���ł��B\n",
      "\u001b[2m\u001b[36m(PPO pid=12876)\u001b[0m . Retrying after sleeping for 1.0 seconds...\n",
      "\u001b[2m\u001b[36m(PPO pid=12876)\u001b[0m Caught sync error: Sync process failed: [WinError 32] Failed copying 'C:/Users/nYoshiaki/ray_results/PPO/PPO_othello_5ba33_00000_0_2023-08-15_11-06-33/checkpoint_000500/.is_checkpoint' to '/Users/nYoshiaki/ray_results/PPO/PPO_othello_5ba33_00000_0_2023-08-15_11-06-33/checkpoint_000500/.is_checkpoint'. Detail: [Windows error 32] �v���Z�X�̓t�@�C���ɃA�N�Z�X�ł��܂���B�ʂ̃v���Z�X���g�p���ł��B\n",
      "\u001b[2m\u001b[36m(PPO pid=12876)\u001b[0m . Retrying after sleeping for 1.0 seconds...\n",
      "\u001b[2m\u001b[36m(PPO pid=12876)\u001b[0m Caught sync error: Sync process failed: [WinError 32] Failed copying 'C:/Users/nYoshiaki/ray_results/PPO/PPO_othello_5ba33_00000_0_2023-08-15_11-06-33/checkpoint_000500/.is_checkpoint' to '/Users/nYoshiaki/ray_results/PPO/PPO_othello_5ba33_00000_0_2023-08-15_11-06-33/checkpoint_000500/.is_checkpoint'. Detail: [Windows error 32] �v���Z�X�̓t�@�C���ɃA�N�Z�X�ł��܂���B�ʂ̃v���Z�X���g�p���ł��B\n",
      "\u001b[2m\u001b[36m(PPO pid=12876)\u001b[0m . Retrying after sleeping for 1.0 seconds...\n",
      "\u001b[2m\u001b[36m(PPO pid=12876)\u001b[0m Could not upload checkpoint to c://\\Users\\nYoshiaki\\ray_results\\PPO\\PPO_othello_5ba33_00000_0_2023-08-15_11-06-33\\checkpoint_000500 even after 3 retries.Please check if the credentials expired and that the remote filesystem is supported. For large checkpoints or artifacts, consider increasing `SyncConfig(sync_timeout)` (current value: 1800 seconds).\n",
      "2023-08-15 12:42:22,708\tWARNING syncer.py:586 -- Last sync command failed: Sync process failed: [WinError 32] Failed copying 'C:/Users/nYoshiaki/ray_results/PPO/basic-variant-state-2023-08-15_09-27-46.json' to 'c:/Users/nYoshiaki/ray_results/PPO/basic-variant-state-2023-08-15_09-27-46.json'. Detail: [Windows error 32] �v���Z�X�̓t�@�C���ɃA�N�Z�X�ł��܂���B�ʂ̃v���Z�X���g�p���ł��B\n",
      "\n",
      "2023-08-15 12:47:26,121\tWARNING syncer.py:586 -- Last sync command failed: Sync process failed: [WinError 32] Failed copying 'C:/Users/nYoshiaki/ray_results/PPO/basic-variant-state-2023-08-15_09-27-46.json' to 'c:/Users/nYoshiaki/ray_results/PPO/basic-variant-state-2023-08-15_09-27-46.json'. Detail: [Windows error 32] �v���Z�X�̓t�@�C���ɃA�N�Z�X�ł��܂���B�ʂ̃v���Z�X���g�p���ł��B\n",
      "\n",
      "\u001b[2m\u001b[36m(PPO pid=12876)\u001b[0m 2023-08-15 12:47:33,625\tWARNING policy.py:137 -- Can not figure out a durable policy name for <class 'rl.agents.random_policy.OthelloRandomPolicy'>. You are probably trying to checkpoint a custom policy. Raw policy class may cause problems when the checkpoint needs to be loaded in the future. To fix this, make sure you add your custom policy in rllib.algorithms.registry.POLICIES.\n",
      "\u001b[2m\u001b[36m(PPO pid=12876)\u001b[0m Last sync command failed: Sync process failed: [WinError 32] Failed copying 'C:/Users/nYoshiaki/ray_results/PPO/PPO_othello_5ba33_00000_0_2023-08-15_11-06-33/checkpoint_000500/.is_checkpoint' to '/Users/nYoshiaki/ray_results/PPO/PPO_othello_5ba33_00000_0_2023-08-15_11-06-33/checkpoint_000500/.is_checkpoint'. Detail: [Windows error 32] �v���Z�X�̓t�@�C���ɃA�N�Z�X�ł��܂���B�ʂ̃v���Z�X���g�p���ł��B\n",
      "\u001b[2m\u001b[36m(PPO pid=12876)\u001b[0m \n",
      "\u001b[2m\u001b[36m(PPO pid=12876)\u001b[0m Caught sync error: Sync process failed: [WinError 32] Failed copying 'C:/Users/nYoshiaki/ray_results/PPO/PPO_othello_5ba33_00000_0_2023-08-15_11-06-33/checkpoint_000550/.is_checkpoint' to 'c:///Users/nYoshiaki/ray_results/PPO/PPO_othello_5ba33_00000_0_2023-08-15_11-06-33/checkpoint_000550/.is_checkpoint'. Detail: [Windows error 32] �v���Z�X�̓t�@�C���ɃA�N�Z�X�ł��܂���B�ʂ̃v���Z�X���g�p���ł��B\n",
      "\u001b[2m\u001b[36m(PPO pid=12876)\u001b[0m . Retrying after sleeping for 1.0 seconds...\n",
      "\u001b[2m\u001b[36m(PPO pid=12876)\u001b[0m Caught sync error: Sync process failed: [WinError 32] Failed copying 'C:/Users/nYoshiaki/ray_results/PPO/PPO_othello_5ba33_00000_0_2023-08-15_11-06-33/checkpoint_000550/.is_checkpoint' to '/Users/nYoshiaki/ray_results/PPO/PPO_othello_5ba33_00000_0_2023-08-15_11-06-33/checkpoint_000550/.is_checkpoint'. Detail: [Windows error 32] �v���Z�X�̓t�@�C���ɃA�N�Z�X�ł��܂���B�ʂ̃v���Z�X���g�p���ł��B\n",
      "\u001b[2m\u001b[36m(PPO pid=12876)\u001b[0m . Retrying after sleeping for 1.0 seconds...\n",
      "\u001b[2m\u001b[36m(PPO pid=12876)\u001b[0m Caught sync error: Sync process failed: [WinError 32] Failed copying 'C:/Users/nYoshiaki/ray_results/PPO/PPO_othello_5ba33_00000_0_2023-08-15_11-06-33/checkpoint_000550/.is_checkpoint' to '/Users/nYoshiaki/ray_results/PPO/PPO_othello_5ba33_00000_0_2023-08-15_11-06-33/checkpoint_000550/.is_checkpoint'. Detail: [Windows error 32] �v���Z�X�̓t�@�C���ɃA�N�Z�X�ł��܂���B�ʂ̃v���Z�X���g�p���ł��B\n",
      "\u001b[2m\u001b[36m(PPO pid=12876)\u001b[0m . Retrying after sleeping for 1.0 seconds...\n",
      "\u001b[2m\u001b[36m(PPO pid=12876)\u001b[0m Could not upload checkpoint to c://\\Users\\nYoshiaki\\ray_results\\PPO\\PPO_othello_5ba33_00000_0_2023-08-15_11-06-33\\checkpoint_000550 even after 3 retries.Please check if the credentials expired and that the remote filesystem is supported. For large checkpoints or artifacts, consider increasing `SyncConfig(sync_timeout)` (current value: 1800 seconds).\n",
      "2023-08-15 12:52:29,463\tWARNING syncer.py:586 -- Last sync command failed: Sync process failed: [WinError 32] Failed copying 'C:/Users/nYoshiaki/ray_results/PPO/basic-variant-state-2023-08-15_09-27-46.json' to 'c:/Users/nYoshiaki/ray_results/PPO/basic-variant-state-2023-08-15_09-27-46.json'. Detail: [Windows error 32] �v���Z�X�̓t�@�C���ɃA�N�Z�X�ł��܂���B�ʂ̃v���Z�X���g�p���ł��B\n",
      "\n",
      "\u001b[2m\u001b[36m(PPO pid=12876)\u001b[0m 2023-08-15 12:56:19,805\tWARNING policy.py:137 -- Can not figure out a durable policy name for <class 'rl.agents.random_policy.OthelloRandomPolicy'>. You are probably trying to checkpoint a custom policy. Raw policy class may cause problems when the checkpoint needs to be loaded in the future. To fix this, make sure you add your custom policy in rllib.algorithms.registry.POLICIES.\n",
      "\u001b[2m\u001b[36m(PPO pid=12876)\u001b[0m Last sync command failed: Sync process failed: [WinError 32] Failed copying 'C:/Users/nYoshiaki/ray_results/PPO/PPO_othello_5ba33_00000_0_2023-08-15_11-06-33/checkpoint_000550/.is_checkpoint' to '/Users/nYoshiaki/ray_results/PPO/PPO_othello_5ba33_00000_0_2023-08-15_11-06-33/checkpoint_000550/.is_checkpoint'. Detail: [Windows error 32] �v���Z�X�̓t�@�C���ɃA�N�Z�X�ł��܂���B�ʂ̃v���Z�X���g�p���ł��B\n",
      "\u001b[2m\u001b[36m(PPO pid=12876)\u001b[0m \n",
      "\u001b[2m\u001b[36m(PPO pid=12876)\u001b[0m Caught sync error: Sync process failed: [WinError 32] Failed copying 'C:/Users/nYoshiaki/ray_results/PPO/PPO_othello_5ba33_00000_0_2023-08-15_11-06-33/checkpoint_000600/.is_checkpoint' to 'c:///Users/nYoshiaki/ray_results/PPO/PPO_othello_5ba33_00000_0_2023-08-15_11-06-33/checkpoint_000600/.is_checkpoint'. Detail: [Windows error 32] �v���Z�X�̓t�@�C���ɃA�N�Z�X�ł��܂���B�ʂ̃v���Z�X���g�p���ł��B\n",
      "\u001b[2m\u001b[36m(PPO pid=12876)\u001b[0m . Retrying after sleeping for 1.0 seconds...\n",
      "\u001b[2m\u001b[36m(PPO pid=12876)\u001b[0m Caught sync error: Sync process failed: [WinError 32] Failed copying 'C:/Users/nYoshiaki/ray_results/PPO/PPO_othello_5ba33_00000_0_2023-08-15_11-06-33/checkpoint_000600/.is_checkpoint' to '/Users/nYoshiaki/ray_results/PPO/PPO_othello_5ba33_00000_0_2023-08-15_11-06-33/checkpoint_000600/.is_checkpoint'. Detail: [Windows error 32] �v���Z�X�̓t�@�C���ɃA�N�Z�X�ł��܂���B�ʂ̃v���Z�X���g�p���ł��B\n",
      "\u001b[2m\u001b[36m(PPO pid=12876)\u001b[0m . Retrying after sleeping for 1.0 seconds...\n",
      "\u001b[2m\u001b[36m(PPO pid=12876)\u001b[0m Caught sync error: Sync process failed: [WinError 32] Failed copying 'C:/Users/nYoshiaki/ray_results/PPO/PPO_othello_5ba33_00000_0_2023-08-15_11-06-33/checkpoint_000600/.is_checkpoint' to '/Users/nYoshiaki/ray_results/PPO/PPO_othello_5ba33_00000_0_2023-08-15_11-06-33/checkpoint_000600/.is_checkpoint'. Detail: [Windows error 32] �v���Z�X�̓t�@�C���ɃA�N�Z�X�ł��܂���B�ʂ̃v���Z�X���g�p���ł��B\n",
      "\u001b[2m\u001b[36m(PPO pid=12876)\u001b[0m . Retrying after sleeping for 1.0 seconds...\n",
      "\u001b[2m\u001b[36m(PPO pid=12876)\u001b[0m Could not upload checkpoint to c://\\Users\\nYoshiaki\\ray_results\\PPO\\PPO_othello_5ba33_00000_0_2023-08-15_11-06-33\\checkpoint_000600 even after 3 retries.Please check if the credentials expired and that the remote filesystem is supported. For large checkpoints or artifacts, consider increasing `SyncConfig(sync_timeout)` (current value: 1800 seconds).\n",
      "2023-08-15 12:57:32,880\tWARNING syncer.py:586 -- Last sync command failed: Sync process failed: [WinError 32] Failed copying 'C:/Users/nYoshiaki/ray_results/PPO/basic-variant-state-2023-08-15_09-27-46.json' to 'c:/Users/nYoshiaki/ray_results/PPO/basic-variant-state-2023-08-15_09-27-46.json'. Detail: [Windows error 32] �v���Z�X�̓t�@�C���ɃA�N�Z�X�ł��܂���B�ʂ̃v���Z�X���g�p���ł��B\n",
      "\n",
      "2023-08-15 13:00:06,294\tWARNING tune.py:192 -- Stop signal received (e.g. via SIGINT/Ctrl+C), ending Ray Tune run. This will try to checkpoint the experiment state one last time. Press CTRL+C (or send SIGINT/SIGKILL/SIGTERM) to skip. \n",
      "2023-08-15 13:00:06,397\tWARNING tune.py:1122 -- Trial Runner checkpointing failed: Sync process failed: [WinError 32] Failed copying 'C:/Users/nYoshiaki/ray_results/PPO/basic-variant-state-2023-08-15_09-27-46.json' to 'c:/Users/nYoshiaki/ray_results/PPO/basic-variant-state-2023-08-15_09-27-46.json'. Detail: [Windows error 32] �v���Z�X�̓t�@�C���ɃA�N�Z�X�ł��܂���B�ʂ̃v���Z�X���g�p���ł��B\n",
      "\n",
      "2023-08-15 13:00:16,548\tINFO tune.py:1148 -- Total run time: 6822.93 seconds (6812.47 seconds for the tuning loop).\n",
      "2023-08-15 13:00:16,549\tWARNING tune.py:1163 -- Experiment has been interrupted, but the most recent state was saved.\n",
      "Resume experiment with: Tuner.restore(path=\"c://\\Users\\nYoshiaki\\ray_results\\PPO\", trainable=...)\n"
     ]
    }
   ],
   "source": [
    "from ray import air\n",
    "from ray import tune\n",
    "\n",
    "results = tune.Tuner(\n",
    "    \"PPO\",\n",
    "    param_space=config,\n",
    "    run_config=air.RunConfig(\n",
    "        checkpoint_config=air.CheckpointConfig(\n",
    "            checkpoint_at_end=True,\n",
    "            checkpoint_frequency=50,\n",
    "        )\n",
    "    ),\n",
    ").fit()"
   ]
  },
  {
   "cell_type": "code",
   "execution_count": 8,
   "metadata": {},
   "outputs": [
    {
     "data": {
      "text/plain": [
       "ResultGrid<[\n",
       "  Result(\n",
       "    metrics={'custom_metrics': {}, 'episode_media': {}, 'info': {'learner': {'agent_1': {'learner_stats': {'allreduce_latency': 0.0, 'grad_gnorm': 2.3644271208594243, 'cur_kl_coeff': 0.7593750000000002, 'cur_lr': 5.0000000000000016e-05, 'total_loss': 8.325176572799682, 'policy_loss': -0.062123337705270384, 'vf_loss': 8.380824494361878, 'vf_explained_var': 0.016079674288630486, 'kl': 0.008527369575162902, 'entropy': 0.627846292903026, 'entropy_coeff': 0.0}, 'model': {}, 'custom_metrics': {}, 'num_agent_steps_trained': 125.0625, 'num_grad_updates_lifetime': 297840.5, 'diff_num_grad_updates_vs_sampler_policy': 239.5}}, 'num_env_steps_sampled': 2484000, 'num_env_steps_trained': 2484000, 'num_agent_steps_sampled': 2483992, 'num_agent_steps_trained': 2483992}, 'sampler_results': {'episode_reward_max': 53.0, 'episode_reward_min': -15.0, 'episode_reward_mean': -2.905861456483126, 'episode_len_mean': 7.147424511545293, 'episode_media': {}, 'episodes_this_iter': 563, 'policy_reward_min': {'agent_1': -12.0, 'agent_2': -106.0}, 'policy_reward_max': {'agent_1': 150.0, 'agent_2': 10.0}, 'policy_reward_mean': {'agent_1': 23.62323943661972, 'agent_2': -14.822380106571936}, 'custom_metrics': {}, 'hist_stats': {'episode_reward': [14.0, -15.0, -15.0, -6.0, -15.0, 5.0, 21.0, 16.0, -15.0, -15.0, -15.0, -15.0, -15.0, -15.0, -15.0, -6.0, -9.0, -15.0, -15.0, -15.0, -9.0, 9.0, -9.0, -15.0, 17.0, 11.0, -15.0, -15.0, -15.0, 11.0, -15.0, 22.0, -15.0, -15.0, -15.0, -15.0, -4.0, 15.0, -15.0, 34.0, 24.0, -9.0, 26.0, -15.0, -9.0, -15.0, -6.0, -9.0, 12.0, 0.0, -15.0, -15.0, 6.0, -15.0, 47.0, -15.0, -15.0, 17.0, 12.0, 26.0, -15.0, -12.0, -15.0, 8.0, 20.0, -15.0, -15.0, -15.0, 7.0, -15.0, -15.0, -9.0, -12.0, 2.0, -15.0, -15.0, -15.0, 33.0, 16.0, -9.0, -15.0, -3.0, 16.0, -15.0, -15.0, -15.0, -15.0, -6.0, -15.0, 21.0, 18.0, -9.0, -15.0, -15.0, 19.0, -15.0, -15.0, -15.0, 13.0, -6.0, -15.0, -15.0, 15.0, -9.0, 12.0, 28.0, 0.0, -15.0, -15.0, -6.0, 15.0, -15.0, -15.0, -15.0, -15.0, -15.0, -15.0, 7.0, 1.0, 4.0, 8.0, -6.0, -9.0, -15.0, 44.0, -15.0, -15.0, -15.0, -15.0, -12.0, -15.0, 2.0, 2.0, -3.0, 17.0, -15.0, -15.0, -15.0, -15.0, -9.0, 16.0, -15.0, 7.0, -15.0, -15.0, 17.0, 12.0, -15.0, -9.0, -9.0, -15.0, -15.0, 15.0, -15.0, -15.0, 37.0, -6.0, -15.0, 35.0, -15.0, -15.0, -15.0, 27.0, 9.0, 22.0, -15.0, -15.0, 4.0, 16.0, 18.0, 18.0, 45.0, -15.0, -4.0, 4.0, -15.0, -15.0, -15.0, 15.0, 5.0, 7.0, 32.0, 35.0, -15.0, -15.0, -15.0, -15.0, 23.0, -15.0, 14.0, 8.0, 13.0, -15.0, 6.0, 25.0, -9.0, -15.0, -15.0, -4.0, 18.0, -15.0, 5.0, 4.0, -12.0, -15.0, -15.0, -15.0, -15.0, 14.0, -15.0, -3.0, -9.0, -15.0, -15.0, -4.0, 10.0, -15.0, -15.0, 14.0, 37.0, -15.0, -15.0, 17.0, -15.0, -15.0, -15.0, -15.0, -15.0, -15.0, 6.0, -15.0, 20.0, -15.0, -15.0, -6.0, 22.0, -15.0, 29.0, -15.0, 20.0, -15.0, -15.0, -15.0, 31.0, -12.0, 30.0, -9.0, -15.0, -15.0, -9.0, 36.0, -9.0, -15.0, -15.0, 20.0, 4.0, -15.0, 11.0, -15.0, 24.0, -9.0, 15.0, 13.0, 3.0, -9.0, 9.0, 13.0, -15.0, -15.0, -15.0, -15.0, 20.0, -15.0, 11.0, -1.0, -15.0, -9.0, -15.0, -9.0, -9.0, -15.0, -9.0, -15.0, -15.0, -15.0, -15.0, -15.0, -6.0, -15.0, -1.0, -15.0, -15.0, 13.0, -15.0, 16.0, -15.0, 1.0, -15.0, -15.0, -15.0, -12.0, -15.0, 14.0, -4.0, 7.0, -6.0, 5.0, -15.0, -15.0, -15.0, 36.0, 20.0, 9.0, -15.0, -15.0, -15.0, -15.0, -6.0, -15.0, -15.0, -15.0, 4.0, -9.0, -15.0, 22.0, -15.0, 21.0, -15.0, -12.0, 27.0, -15.0, 20.0, 29.0, -15.0, -9.0, -15.0, 14.0, -3.0, -15.0, -9.0, 0.0, 6.0, -15.0, -4.0, -15.0, 22.0, 17.0, -15.0, -15.0, 20.0, -3.0, -4.0, 7.0, -15.0, 10.0, -15.0, -15.0, -15.0, -15.0, -9.0, -15.0, 7.0, -15.0, 47.0, -15.0, -15.0, -9.0, -15.0, -6.0, -15.0, -15.0, 35.0, 8.0, 6.0, -15.0, 17.0, -4.0, 14.0, 24.0, -15.0, 16.0, -12.0, -12.0, 1.0, -15.0, -9.0, -12.0, -15.0, -15.0, 10.0, -15.0, -15.0, -6.0, -15.0, -4.0, -15.0, 5.0, -15.0, 20.0, -15.0, -15.0, -3.0, 20.0, -1.0, -15.0, -15.0, -15.0, -15.0, -1.0, -15.0, 12.0, 37.0, -15.0, 13.0, 17.0, -15.0, -15.0, 45.0, -9.0, -15.0, -6.0, -15.0, -15.0, -15.0, -1.0, 29.0, 53.0, -15.0, 10.0, 16.0, -15.0, -15.0, -15.0, -9.0, 8.0, -15.0, -15.0, 14.0, -9.0, -15.0, -15.0, -6.0, 15.0, -15.0, -6.0, -15.0, -6.0, -15.0, 4.0, -15.0, -15.0, 37.0, 10.0, -15.0, -15.0, 37.0, -15.0, 20.0, 5.0, -15.0, 23.0, 23.0, -1.0, -15.0, -15.0, -15.0, -15.0, -15.0, -6.0, -15.0, -15.0, 17.0, -15.0, 34.0, -15.0, -15.0, -15.0, 7.0, -15.0, -6.0, -15.0, 23.0, 12.0, -15.0, -4.0, -15.0, -15.0, 25.0, 29.0, 20.0, -9.0, -15.0, -15.0, -15.0, -6.0, 33.0, -15.0, 14.0, -15.0, 5.0, 25.0, 44.0, -15.0, -15.0, -15.0, -15.0, 37.0, -15.0, -9.0, 13.0, 7.0, -15.0, -1.0, 10.0, -15.0, 14.0, -15.0, -15.0, -15.0, 43.0, 20.0, -15.0, -6.0, 0.0, 38.0, 24.0, 15.0, 17.0, -1.0, -15.0, -9.0, -15.0, 26.0, -15.0, -15.0, -15.0, -15.0, -15.0, -3.0, -15.0, -15.0, -15.0, 4.0, -15.0, 27.0, -15.0, -12.0, 24.0, -12.0, -15.0, -9.0, -4.0, -15.0, -15.0, -15.0, -15.0, -15.0, -15.0, -15.0, -15.0, 9.0, 12.0, -15.0], 'episode_lengths': [15, 1, 1, 7, 1, 13, 21, 15, 1, 1, 1, 1, 1, 1, 1, 7, 5, 1, 1, 1, 5, 13, 5, 1, 17, 13, 1, 1, 1, 17, 1, 19, 1, 1, 1, 1, 7, 17, 1, 23, 19, 5, 23, 1, 5, 1, 7, 5, 15, 11, 1, 1, 11, 1, 25, 1, 1, 17, 15, 23, 1, 3, 1, 11, 19, 1, 1, 1, 13, 1, 1, 5, 3, 11, 1, 1, 1, 21, 15, 5, 1, 9, 15, 1, 1, 1, 1, 7, 1, 17, 15, 5, 1, 1, 21, 1, 1, 1, 13, 7, 1, 1, 13, 5, 15, 23, 11, 1, 1, 7, 17, 1, 1, 1, 1, 1, 1, 13, 9, 11, 11, 7, 5, 1, 27, 1, 1, 1, 1, 3, 1, 11, 11, 9, 17, 1, 1, 1, 1, 5, 15, 1, 13, 1, 1, 17, 15, 1, 5, 5, 1, 1, 13, 1, 1, 25, 7, 1, 21, 1, 1, 1, 21, 13, 19, 1, 1, 11, 15, 19, 19, 25, 1, 7, 11, 1, 1, 1, 17, 13, 13, 23, 29, 1, 1, 1, 1, 21, 1, 15, 15, 17, 1, 15, 21, 5, 1, 1, 7, 15, 1, 13, 11, 3, 1, 1, 1, 1, 15, 1, 9, 5, 1, 1, 7, 15, 1, 1, 15, 25, 1, 1, 17, 1, 1, 1, 1, 1, 1, 15, 1, 19, 1, 1, 7, 19, 1, 25, 1, 19, 1, 1, 1, 21, 3, 23, 5, 1, 1, 5, 23, 5, 1, 1, 19, 11, 1, 17, 1, 19, 5, 17, 13, 13, 5, 13, 17, 1, 1, 1, 1, 19, 1, 17, 9, 1, 5, 1, 5, 5, 1, 5, 1, 1, 1, 1, 1, 7, 1, 9, 1, 1, 17, 1, 15, 1, 9, 1, 1, 1, 3, 1, 15, 7, 13, 7, 13, 1, 1, 1, 27, 19, 13, 1, 1, 1, 1, 7, 1, 1, 1, 11, 5, 1, 23, 1, 17, 1, 3, 21, 1, 19, 21, 1, 5, 1, 11, 9, 1, 5, 11, 11, 1, 7, 1, 15, 17, 1, 1, 19, 9, 7, 13, 1, 15, 1, 1, 1, 1, 5, 1, 13, 1, 25, 1, 1, 5, 1, 7, 1, 1, 25, 11, 11, 1, 21, 7, 15, 23, 1, 15, 3, 3, 9, 1, 5, 3, 1, 1, 15, 1, 1, 7, 1, 7, 1, 9, 1, 19, 1, 1, 9, 19, 9, 1, 1, 1, 1, 9, 1, 15, 25, 1, 13, 17, 1, 1, 29, 5, 1, 7, 1, 1, 1, 9, 18, 29, 1, 15, 15, 1, 1, 1, 5, 11, 1, 1, 15, 5, 1, 1, 7, 17, 1, 7, 1, 7, 1, 11, 1, 1, 25, 15, 1, 1, 25, 1, 19, 13, 1, 21, 21, 9, 1, 1, 1, 1, 1, 7, 1, 1, 17, 1, 23, 1, 1, 1, 13, 1, 7, 1, 17, 15, 1, 7, 1, 1, 21, 21, 19, 5, 1, 1, 1, 7, 29, 1, 19, 1, 9, 21, 24, 1, 1, 1, 1, 25, 1, 5, 13, 13, 1, 9, 15, 1, 15, 1, 1, 1, 25, 19, 1, 7, 11, 23, 19, 17, 17, 9, 1, 5, 1, 19, 1, 1, 1, 1, 1, 9, 1, 1, 1, 11, 1, 17, 1, 3, 16, 3, 1, 5, 7, 1, 1, 1, 1, 1, 1, 1, 1, 13, 15, 1], 'policy_agent_1_reward': [28.0, -6.0, 15.0, 57.0, 24.0, -4.0, -9.0, -9.0, 11.0, -9.0, 39.0, 19.0, 19.0, 66.0, -4.0, 31.0, 48.0, 32.0, -9.0, 50.0, -9.0, -2.0, -9.0, 34.0, 4.0, 12.0, 51.0, 35.0, 28.0, 74.0, -12.0, 6.0, 32.0, 11.0, -9.0, -12.0, 8.0, 59.0, 16.0, -9.0, 1.0, 12.0, -2.0, 45.0, 24.0, -9.0, 59.0, 15.0, -2.0, 5.0, -9.0, 14.0, 90.0, 14.0, -2.0, 33.0, 11.0, -1.0, 10.0, 4.0, -2.0, -9.0, 130.0, -12.0, 10.0, 6.0, 3.0, 43.0, -9.0, 34.0, 19.0, 35.0, 30.0, -9.0, -9.0, 15.0, 69.0, -2.0, 43.0, 57.0, 17.0, 58.0, 8.0, 10.0, 64.0, 50.0, 73.0, -2.0, 0.0, 37.0, 21.0, 15.0, 34.0, 109.0, 73.0, 20.0, 34.0, 49.0, 18.0, 55.0, -9.0, -6.0, 30.0, 27.0, 4.0, -12.0, 24.0, 1.0, -9.0, -4.0, 34.0, 22.0, 113.0, 25.0, 38.0, 54.0, -2.0, 54.0, 95.0, 48.0, 47.0, -12.0, 54.0, -9.0, -7.0, 80.0, -9.0, 60.0, 4.0, 47.0, 60.0, -9.0, 27.0, 25.0, 15.0, -7.0, 21.0, 35.0, 32.0, 41.0, 5.0, -9.0, -9.0, -9.0, -9.0, -2.0, 3.0, 17.0, 6.0, -1.0, -12.0, 20.0, -2.0, 17.0, -4.0, 21.0, 138.0, 57.0, 27.0, -2.0, 8.0, -9.0, 62.0, 43.0, -12.0, 69.0, 62.0, 75.0, -9.0, 10.0, 5.0, -9.0, 10.0, 10.0, -4.0, 20.0, 35.0, 54.0, 1.0, -6.0, 11.0, 12.0, -9.0, 15.0, 73.0, -9.0, -2.0, 73.0, 6.0, 0.0, 73.0, -6.0, 26.0, 46.0, 30.0, -12.0, -12.0, 1.0, -9.0, -12.0, 28.0, -2.0, -6.0, -1.0, 64.0, 1.0, 48.0, -1.0, -3.0, 26.0, 79.0, 27.0, 37.0, 103.0, -9.0, -2.0, 3.0, 79.0, 141.0, 22.0, 24.0, -9.0, 0.0, 36.0, -9.0, -4.0, 18.0, -2.0, -2.0, 16.0, 75.0, 32.0, 77.0, 50.0, 13.0, 81.0, 49.0, 1.0, -4.0, 43.0, 94.0, 15.0, -4.0, 39.0, 26.0, -4.0, 63.0, 65.0, 50.0, -9.0, -2.0, 105.0, 36.0, -1.0, 69.0, 150.0, 87.0, -9.0, 15.0, 21.0, 3.0, 10.0, 32.0, 113.0, 54.0, -2.0, 10.0, 86.0, 56.0, 37.0, 51.0, 3.0, -9.0, 30.0, 1.0, 8.0, 33.0, -12.0, 76.0, -12.0, -9.0, -6.0, 19.0, 34.0], 'policy_agent_2_reward': [-14.0, -15.0, -15.0, 0.0, -15.0, -10.0, -36.0, -8.0, -15.0, -15.0, -15.0, -15.0, -15.0, -15.0, -15.0, -2.0, 0.0, -15.0, -15.0, -15.0, 0.0, -2.0, 0.0, -15.0, -22.0, -8.0, -15.0, -15.0, -15.0, -8.0, -15.0, -44.0, -15.0, -15.0, -15.0, -15.0, 0.0, -16.0, -15.0, -14.0, -8.0, 0.0, -24.0, -15.0, 0.0, -15.0, -4.0, 0.0, -22.0, -4.0, -15.0, -15.0, -6.0, -15.0, -4.0, -15.0, -15.0, -18.0, -16.0, -48.0, -15.0, 0.0, -15.0, 2.0, -12.0, -15.0, -15.0, -15.0, -4.0, -15.0, -15.0, 0.0, 0.0, -6.0, -15.0, -15.0, -15.0, -26.0, 0.0, 0.0, -15.0, -4.0, 4.0, -15.0, -15.0, -15.0, -15.0, -4.0, -15.0, -24.0, -6.0, 0.0, -15.0, -15.0, -40.0, -15.0, -15.0, -15.0, -2.0, -4.0, -15.0, -15.0, 10.0, 0.0, -2.0, -62.0, -14.0, -15.0, -15.0, -4.0, -18.0, -15.0, -15.0, -15.0, -15.0, -15.0, -15.0, -4.0, 2.0, -6.0, 4.0, -4.0, 0.0, -15.0, -86.0, -15.0, -15.0, -15.0, -15.0, 0.0, -15.0, -8.0, -4.0, -6.0, -26.0, -15.0, -15.0, -15.0, -15.0, 0.0, -18.0, -15.0, -12.0, -15.0, -15.0, -18.0, -18.0, -15.0, 0.0, 0.0, -15.0, -15.0, 0.0, -15.0, -15.0, -32.0, -4.0, -15.0, -8.0, -15.0, -15.0, -15.0, -30.0, -8.0, -36.0, -15.0, -15.0, -4.0, 6.0, -46.0, -32.0, -28.0, -15.0, -2.0, 4.0, -15.0, -15.0, -15.0, -22.0, -16.0, -8.0, -2.0, -74.0, -15.0, -15.0, -15.0, -15.0, -50.0, -15.0, -6.0, -26.0, -36.0, -15.0, -12.0, -30.0, 0.0, -15.0, -15.0, 2.0, -12.0, -15.0, -22.0, 0.0, 0.0, -15.0, -15.0, -15.0, -15.0, -10.0, -15.0, -4.0, 0.0, -15.0, -15.0, 0.0, -24.0, -15.0, -15.0, -8.0, -76.0, -15.0, -15.0, -8.0, -15.0, -15.0, -15.0, -15.0, -15.0, -15.0, -32.0, -15.0, -34.0, -15.0, -15.0, -4.0, -32.0, -15.0, -66.0, -15.0, -28.0, -15.0, -15.0, -15.0, -16.0, 0.0, -24.0, 0.0, -15.0, -15.0, -2.0, -44.0, 0.0, -15.0, -15.0, -40.0, 0.0, -15.0, -36.0, -15.0, -36.0, 0.0, -12.0, -12.0, -12.0, -2.0, -12.0, -22.0, -15.0, -15.0, -15.0, -15.0, -12.0, -15.0, -30.0, -6.0, -15.0, 0.0, -15.0, 0.0, 0.0, -15.0, 0.0, -15.0, -15.0, -15.0, -15.0, -15.0, -4.0, -15.0, -4.0, -15.0, -15.0, -4.0, -15.0, 10.0, -15.0, 2.0, -15.0, -15.0, -15.0, 0.0, -15.0, -6.0, -2.0, -10.0, -2.0, -16.0, -15.0, -15.0, -15.0, -102.0, -37.0, -18.0, -15.0, -15.0, -15.0, -15.0, -4.0, -15.0, -15.0, -15.0, -4.0, 0.0, -15.0, -40.0, -15.0, -22.0, -15.0, 0.0, -42.0, -15.0, -42.0, -46.0, -15.0, 0.0, -15.0, 4.0, -8.0, -15.0, 0.0, -10.0, -4.0, -15.0, 0.0, -15.0, 2.0, -18.0, -15.0, -15.0, -34.0, -4.0, 2.0, -4.0, -15.0, -2.0, -15.0, -15.0, -15.0, -15.0, 0.0, -15.0, -8.0, -15.0, -26.0, -15.0, -15.0, 0.0, -15.0, -4.0, -15.0, -15.0, -38.0, 2.0, 6.0, -15.0, -56.0, 2.0, -12.0, -22.0, -15.0, -14.0, 0.0, 0.0, 0.0, -15.0, 0.0, 0.0, -15.0, -15.0, -18.0, -15.0, -15.0, -4.0, -15.0, 2.0, -15.0, 6.0, -15.0, -44.0, -15.0, -15.0, -4.0, -28.0, 0.0, -15.0, -15.0, -15.0, -15.0, 2.0, -15.0, -14.0, -42.0, -15.0, -14.0, -20.0, -15.0, -15.0, -58.0, 0.0, -15.0, -4.0, -15.0, -15.0, -15.0, -4.0, -50.0, -88.0, -15.0, -12.0, -8.0, -15.0, -15.0, -15.0, 0.0, 8.0, -15.0, -15.0, -22.0, 0.0, -15.0, -15.0, -2.0, -3.0, -15.0, -4.0, -15.0, -4.0, -15.0, -12.0, -15.0, -15.0, -38.0, -22.0, -15.0, -15.0, -40.0, -15.0, -30.0, -8.0, -15.0, -58.0, -26.0, -2.0, -15.0, -15.0, -15.0, -15.0, -15.0, -2.0, -15.0, -15.0, -26.0, -15.0, -60.0, -15.0, -15.0, -15.0, -8.0, -15.0, -2.0, -15.0, -16.0, -14.0, -15.0, 0.0, -15.0, -15.0, -38.0, -36.0, -30.0, 0.0, -15.0, -15.0, -15.0, -4.0, -72.0, -15.0, -22.0, -15.0, 6.0, -44.0, -106.0, -15.0, -15.0, -15.0, -15.0, -50.0, -15.0, 0.0, -2.0, -14.0, -15.0, -4.0, 0.0, -15.0, -18.0, -15.0, -15.0, -15.0, -70.0, -34.0, -15.0, -4.0, -10.0, -48.0, -32.0, -22.0, -34.0, -4.0, -15.0, 0.0, -15.0, -4.0, -15.0, -15.0, -15.0, -15.0, -15.0, -4.0, -15.0, -15.0, -15.0, -4.0, -15.0, -6.0, -15.0, 0.0, -52.0, 0.0, -15.0, 0.0, 2.0, -15.0, -15.0, -15.0, -15.0, -15.0, -15.0, -15.0, -15.0, -10.0, -22.0, -15.0]}, 'sampler_perf': {'mean_raw_obs_processing_ms': 0.6477708674568254, 'mean_inference_ms': 1.280652455698856, 'mean_action_processing_ms': 0.13673416844926908, 'mean_env_wait_ms': 0.1227202064358649, 'mean_env_render_ms': 0.0}, 'num_faulty_episodes': 0, 'connector_metrics': {'ObsPreprocessorConnector_ms': 0.006435500125817453, 'StateBufferConnector_ms': 0.01032065331865511, 'ViewRequirementAgentConnector_ms': 0.24968862815055262}}, 'episode_reward_max': 53.0, 'episode_reward_min': -15.0, 'episode_reward_mean': -2.905861456483126, 'episode_len_mean': 7.147424511545293, 'episodes_this_iter': 563, 'policy_reward_min': {'agent_1': -12.0, 'agent_2': -106.0}, 'policy_reward_max': {'agent_1': 150.0, 'agent_2': 10.0}, 'policy_reward_mean': {'agent_1': 23.62323943661972, 'agent_2': -14.822380106571936}, 'hist_stats': {'episode_reward': [14.0, -15.0, -15.0, -6.0, -15.0, 5.0, 21.0, 16.0, -15.0, -15.0, -15.0, -15.0, -15.0, -15.0, -15.0, -6.0, -9.0, -15.0, -15.0, -15.0, -9.0, 9.0, -9.0, -15.0, 17.0, 11.0, -15.0, -15.0, -15.0, 11.0, -15.0, 22.0, -15.0, -15.0, -15.0, -15.0, -4.0, 15.0, -15.0, 34.0, 24.0, -9.0, 26.0, -15.0, -9.0, -15.0, -6.0, -9.0, 12.0, 0.0, -15.0, -15.0, 6.0, -15.0, 47.0, -15.0, -15.0, 17.0, 12.0, 26.0, -15.0, -12.0, -15.0, 8.0, 20.0, -15.0, -15.0, -15.0, 7.0, -15.0, -15.0, -9.0, -12.0, 2.0, -15.0, -15.0, -15.0, 33.0, 16.0, -9.0, -15.0, -3.0, 16.0, -15.0, -15.0, -15.0, -15.0, -6.0, -15.0, 21.0, 18.0, -9.0, -15.0, -15.0, 19.0, -15.0, -15.0, -15.0, 13.0, -6.0, -15.0, -15.0, 15.0, -9.0, 12.0, 28.0, 0.0, -15.0, -15.0, -6.0, 15.0, -15.0, -15.0, -15.0, -15.0, -15.0, -15.0, 7.0, 1.0, 4.0, 8.0, -6.0, -9.0, -15.0, 44.0, -15.0, -15.0, -15.0, -15.0, -12.0, -15.0, 2.0, 2.0, -3.0, 17.0, -15.0, -15.0, -15.0, -15.0, -9.0, 16.0, -15.0, 7.0, -15.0, -15.0, 17.0, 12.0, -15.0, -9.0, -9.0, -15.0, -15.0, 15.0, -15.0, -15.0, 37.0, -6.0, -15.0, 35.0, -15.0, -15.0, -15.0, 27.0, 9.0, 22.0, -15.0, -15.0, 4.0, 16.0, 18.0, 18.0, 45.0, -15.0, -4.0, 4.0, -15.0, -15.0, -15.0, 15.0, 5.0, 7.0, 32.0, 35.0, -15.0, -15.0, -15.0, -15.0, 23.0, -15.0, 14.0, 8.0, 13.0, -15.0, 6.0, 25.0, -9.0, -15.0, -15.0, -4.0, 18.0, -15.0, 5.0, 4.0, -12.0, -15.0, -15.0, -15.0, -15.0, 14.0, -15.0, -3.0, -9.0, -15.0, -15.0, -4.0, 10.0, -15.0, -15.0, 14.0, 37.0, -15.0, -15.0, 17.0, -15.0, -15.0, -15.0, -15.0, -15.0, -15.0, 6.0, -15.0, 20.0, -15.0, -15.0, -6.0, 22.0, -15.0, 29.0, -15.0, 20.0, -15.0, -15.0, -15.0, 31.0, -12.0, 30.0, -9.0, -15.0, -15.0, -9.0, 36.0, -9.0, -15.0, -15.0, 20.0, 4.0, -15.0, 11.0, -15.0, 24.0, -9.0, 15.0, 13.0, 3.0, -9.0, 9.0, 13.0, -15.0, -15.0, -15.0, -15.0, 20.0, -15.0, 11.0, -1.0, -15.0, -9.0, -15.0, -9.0, -9.0, -15.0, -9.0, -15.0, -15.0, -15.0, -15.0, -15.0, -6.0, -15.0, -1.0, -15.0, -15.0, 13.0, -15.0, 16.0, -15.0, 1.0, -15.0, -15.0, -15.0, -12.0, -15.0, 14.0, -4.0, 7.0, -6.0, 5.0, -15.0, -15.0, -15.0, 36.0, 20.0, 9.0, -15.0, -15.0, -15.0, -15.0, -6.0, -15.0, -15.0, -15.0, 4.0, -9.0, -15.0, 22.0, -15.0, 21.0, -15.0, -12.0, 27.0, -15.0, 20.0, 29.0, -15.0, -9.0, -15.0, 14.0, -3.0, -15.0, -9.0, 0.0, 6.0, -15.0, -4.0, -15.0, 22.0, 17.0, -15.0, -15.0, 20.0, -3.0, -4.0, 7.0, -15.0, 10.0, -15.0, -15.0, -15.0, -15.0, -9.0, -15.0, 7.0, -15.0, 47.0, -15.0, -15.0, -9.0, -15.0, -6.0, -15.0, -15.0, 35.0, 8.0, 6.0, -15.0, 17.0, -4.0, 14.0, 24.0, -15.0, 16.0, -12.0, -12.0, 1.0, -15.0, -9.0, -12.0, -15.0, -15.0, 10.0, -15.0, -15.0, -6.0, -15.0, -4.0, -15.0, 5.0, -15.0, 20.0, -15.0, -15.0, -3.0, 20.0, -1.0, -15.0, -15.0, -15.0, -15.0, -1.0, -15.0, 12.0, 37.0, -15.0, 13.0, 17.0, -15.0, -15.0, 45.0, -9.0, -15.0, -6.0, -15.0, -15.0, -15.0, -1.0, 29.0, 53.0, -15.0, 10.0, 16.0, -15.0, -15.0, -15.0, -9.0, 8.0, -15.0, -15.0, 14.0, -9.0, -15.0, -15.0, -6.0, 15.0, -15.0, -6.0, -15.0, -6.0, -15.0, 4.0, -15.0, -15.0, 37.0, 10.0, -15.0, -15.0, 37.0, -15.0, 20.0, 5.0, -15.0, 23.0, 23.0, -1.0, -15.0, -15.0, -15.0, -15.0, -15.0, -6.0, -15.0, -15.0, 17.0, -15.0, 34.0, -15.0, -15.0, -15.0, 7.0, -15.0, -6.0, -15.0, 23.0, 12.0, -15.0, -4.0, -15.0, -15.0, 25.0, 29.0, 20.0, -9.0, -15.0, -15.0, -15.0, -6.0, 33.0, -15.0, 14.0, -15.0, 5.0, 25.0, 44.0, -15.0, -15.0, -15.0, -15.0, 37.0, -15.0, -9.0, 13.0, 7.0, -15.0, -1.0, 10.0, -15.0, 14.0, -15.0, -15.0, -15.0, 43.0, 20.0, -15.0, -6.0, 0.0, 38.0, 24.0, 15.0, 17.0, -1.0, -15.0, -9.0, -15.0, 26.0, -15.0, -15.0, -15.0, -15.0, -15.0, -3.0, -15.0, -15.0, -15.0, 4.0, -15.0, 27.0, -15.0, -12.0, 24.0, -12.0, -15.0, -9.0, -4.0, -15.0, -15.0, -15.0, -15.0, -15.0, -15.0, -15.0, -15.0, 9.0, 12.0, -15.0], 'episode_lengths': [15, 1, 1, 7, 1, 13, 21, 15, 1, 1, 1, 1, 1, 1, 1, 7, 5, 1, 1, 1, 5, 13, 5, 1, 17, 13, 1, 1, 1, 17, 1, 19, 1, 1, 1, 1, 7, 17, 1, 23, 19, 5, 23, 1, 5, 1, 7, 5, 15, 11, 1, 1, 11, 1, 25, 1, 1, 17, 15, 23, 1, 3, 1, 11, 19, 1, 1, 1, 13, 1, 1, 5, 3, 11, 1, 1, 1, 21, 15, 5, 1, 9, 15, 1, 1, 1, 1, 7, 1, 17, 15, 5, 1, 1, 21, 1, 1, 1, 13, 7, 1, 1, 13, 5, 15, 23, 11, 1, 1, 7, 17, 1, 1, 1, 1, 1, 1, 13, 9, 11, 11, 7, 5, 1, 27, 1, 1, 1, 1, 3, 1, 11, 11, 9, 17, 1, 1, 1, 1, 5, 15, 1, 13, 1, 1, 17, 15, 1, 5, 5, 1, 1, 13, 1, 1, 25, 7, 1, 21, 1, 1, 1, 21, 13, 19, 1, 1, 11, 15, 19, 19, 25, 1, 7, 11, 1, 1, 1, 17, 13, 13, 23, 29, 1, 1, 1, 1, 21, 1, 15, 15, 17, 1, 15, 21, 5, 1, 1, 7, 15, 1, 13, 11, 3, 1, 1, 1, 1, 15, 1, 9, 5, 1, 1, 7, 15, 1, 1, 15, 25, 1, 1, 17, 1, 1, 1, 1, 1, 1, 15, 1, 19, 1, 1, 7, 19, 1, 25, 1, 19, 1, 1, 1, 21, 3, 23, 5, 1, 1, 5, 23, 5, 1, 1, 19, 11, 1, 17, 1, 19, 5, 17, 13, 13, 5, 13, 17, 1, 1, 1, 1, 19, 1, 17, 9, 1, 5, 1, 5, 5, 1, 5, 1, 1, 1, 1, 1, 7, 1, 9, 1, 1, 17, 1, 15, 1, 9, 1, 1, 1, 3, 1, 15, 7, 13, 7, 13, 1, 1, 1, 27, 19, 13, 1, 1, 1, 1, 7, 1, 1, 1, 11, 5, 1, 23, 1, 17, 1, 3, 21, 1, 19, 21, 1, 5, 1, 11, 9, 1, 5, 11, 11, 1, 7, 1, 15, 17, 1, 1, 19, 9, 7, 13, 1, 15, 1, 1, 1, 1, 5, 1, 13, 1, 25, 1, 1, 5, 1, 7, 1, 1, 25, 11, 11, 1, 21, 7, 15, 23, 1, 15, 3, 3, 9, 1, 5, 3, 1, 1, 15, 1, 1, 7, 1, 7, 1, 9, 1, 19, 1, 1, 9, 19, 9, 1, 1, 1, 1, 9, 1, 15, 25, 1, 13, 17, 1, 1, 29, 5, 1, 7, 1, 1, 1, 9, 18, 29, 1, 15, 15, 1, 1, 1, 5, 11, 1, 1, 15, 5, 1, 1, 7, 17, 1, 7, 1, 7, 1, 11, 1, 1, 25, 15, 1, 1, 25, 1, 19, 13, 1, 21, 21, 9, 1, 1, 1, 1, 1, 7, 1, 1, 17, 1, 23, 1, 1, 1, 13, 1, 7, 1, 17, 15, 1, 7, 1, 1, 21, 21, 19, 5, 1, 1, 1, 7, 29, 1, 19, 1, 9, 21, 24, 1, 1, 1, 1, 25, 1, 5, 13, 13, 1, 9, 15, 1, 15, 1, 1, 1, 25, 19, 1, 7, 11, 23, 19, 17, 17, 9, 1, 5, 1, 19, 1, 1, 1, 1, 1, 9, 1, 1, 1, 11, 1, 17, 1, 3, 16, 3, 1, 5, 7, 1, 1, 1, 1, 1, 1, 1, 1, 13, 15, 1], 'policy_agent_1_reward': [28.0, -6.0, 15.0, 57.0, 24.0, -4.0, -9.0, -9.0, 11.0, -9.0, 39.0, 19.0, 19.0, 66.0, -4.0, 31.0, 48.0, 32.0, -9.0, 50.0, -9.0, -2.0, -9.0, 34.0, 4.0, 12.0, 51.0, 35.0, 28.0, 74.0, -12.0, 6.0, 32.0, 11.0, -9.0, -12.0, 8.0, 59.0, 16.0, -9.0, 1.0, 12.0, -2.0, 45.0, 24.0, -9.0, 59.0, 15.0, -2.0, 5.0, -9.0, 14.0, 90.0, 14.0, -2.0, 33.0, 11.0, -1.0, 10.0, 4.0, -2.0, -9.0, 130.0, -12.0, 10.0, 6.0, 3.0, 43.0, -9.0, 34.0, 19.0, 35.0, 30.0, -9.0, -9.0, 15.0, 69.0, -2.0, 43.0, 57.0, 17.0, 58.0, 8.0, 10.0, 64.0, 50.0, 73.0, -2.0, 0.0, 37.0, 21.0, 15.0, 34.0, 109.0, 73.0, 20.0, 34.0, 49.0, 18.0, 55.0, -9.0, -6.0, 30.0, 27.0, 4.0, -12.0, 24.0, 1.0, -9.0, -4.0, 34.0, 22.0, 113.0, 25.0, 38.0, 54.0, -2.0, 54.0, 95.0, 48.0, 47.0, -12.0, 54.0, -9.0, -7.0, 80.0, -9.0, 60.0, 4.0, 47.0, 60.0, -9.0, 27.0, 25.0, 15.0, -7.0, 21.0, 35.0, 32.0, 41.0, 5.0, -9.0, -9.0, -9.0, -9.0, -2.0, 3.0, 17.0, 6.0, -1.0, -12.0, 20.0, -2.0, 17.0, -4.0, 21.0, 138.0, 57.0, 27.0, -2.0, 8.0, -9.0, 62.0, 43.0, -12.0, 69.0, 62.0, 75.0, -9.0, 10.0, 5.0, -9.0, 10.0, 10.0, -4.0, 20.0, 35.0, 54.0, 1.0, -6.0, 11.0, 12.0, -9.0, 15.0, 73.0, -9.0, -2.0, 73.0, 6.0, 0.0, 73.0, -6.0, 26.0, 46.0, 30.0, -12.0, -12.0, 1.0, -9.0, -12.0, 28.0, -2.0, -6.0, -1.0, 64.0, 1.0, 48.0, -1.0, -3.0, 26.0, 79.0, 27.0, 37.0, 103.0, -9.0, -2.0, 3.0, 79.0, 141.0, 22.0, 24.0, -9.0, 0.0, 36.0, -9.0, -4.0, 18.0, -2.0, -2.0, 16.0, 75.0, 32.0, 77.0, 50.0, 13.0, 81.0, 49.0, 1.0, -4.0, 43.0, 94.0, 15.0, -4.0, 39.0, 26.0, -4.0, 63.0, 65.0, 50.0, -9.0, -2.0, 105.0, 36.0, -1.0, 69.0, 150.0, 87.0, -9.0, 15.0, 21.0, 3.0, 10.0, 32.0, 113.0, 54.0, -2.0, 10.0, 86.0, 56.0, 37.0, 51.0, 3.0, -9.0, 30.0, 1.0, 8.0, 33.0, -12.0, 76.0, -12.0, -9.0, -6.0, 19.0, 34.0], 'policy_agent_2_reward': [-14.0, -15.0, -15.0, 0.0, -15.0, -10.0, -36.0, -8.0, -15.0, -15.0, -15.0, -15.0, -15.0, -15.0, -15.0, -2.0, 0.0, -15.0, -15.0, -15.0, 0.0, -2.0, 0.0, -15.0, -22.0, -8.0, -15.0, -15.0, -15.0, -8.0, -15.0, -44.0, -15.0, -15.0, -15.0, -15.0, 0.0, -16.0, -15.0, -14.0, -8.0, 0.0, -24.0, -15.0, 0.0, -15.0, -4.0, 0.0, -22.0, -4.0, -15.0, -15.0, -6.0, -15.0, -4.0, -15.0, -15.0, -18.0, -16.0, -48.0, -15.0, 0.0, -15.0, 2.0, -12.0, -15.0, -15.0, -15.0, -4.0, -15.0, -15.0, 0.0, 0.0, -6.0, -15.0, -15.0, -15.0, -26.0, 0.0, 0.0, -15.0, -4.0, 4.0, -15.0, -15.0, -15.0, -15.0, -4.0, -15.0, -24.0, -6.0, 0.0, -15.0, -15.0, -40.0, -15.0, -15.0, -15.0, -2.0, -4.0, -15.0, -15.0, 10.0, 0.0, -2.0, -62.0, -14.0, -15.0, -15.0, -4.0, -18.0, -15.0, -15.0, -15.0, -15.0, -15.0, -15.0, -4.0, 2.0, -6.0, 4.0, -4.0, 0.0, -15.0, -86.0, -15.0, -15.0, -15.0, -15.0, 0.0, -15.0, -8.0, -4.0, -6.0, -26.0, -15.0, -15.0, -15.0, -15.0, 0.0, -18.0, -15.0, -12.0, -15.0, -15.0, -18.0, -18.0, -15.0, 0.0, 0.0, -15.0, -15.0, 0.0, -15.0, -15.0, -32.0, -4.0, -15.0, -8.0, -15.0, -15.0, -15.0, -30.0, -8.0, -36.0, -15.0, -15.0, -4.0, 6.0, -46.0, -32.0, -28.0, -15.0, -2.0, 4.0, -15.0, -15.0, -15.0, -22.0, -16.0, -8.0, -2.0, -74.0, -15.0, -15.0, -15.0, -15.0, -50.0, -15.0, -6.0, -26.0, -36.0, -15.0, -12.0, -30.0, 0.0, -15.0, -15.0, 2.0, -12.0, -15.0, -22.0, 0.0, 0.0, -15.0, -15.0, -15.0, -15.0, -10.0, -15.0, -4.0, 0.0, -15.0, -15.0, 0.0, -24.0, -15.0, -15.0, -8.0, -76.0, -15.0, -15.0, -8.0, -15.0, -15.0, -15.0, -15.0, -15.0, -15.0, -32.0, -15.0, -34.0, -15.0, -15.0, -4.0, -32.0, -15.0, -66.0, -15.0, -28.0, -15.0, -15.0, -15.0, -16.0, 0.0, -24.0, 0.0, -15.0, -15.0, -2.0, -44.0, 0.0, -15.0, -15.0, -40.0, 0.0, -15.0, -36.0, -15.0, -36.0, 0.0, -12.0, -12.0, -12.0, -2.0, -12.0, -22.0, -15.0, -15.0, -15.0, -15.0, -12.0, -15.0, -30.0, -6.0, -15.0, 0.0, -15.0, 0.0, 0.0, -15.0, 0.0, -15.0, -15.0, -15.0, -15.0, -15.0, -4.0, -15.0, -4.0, -15.0, -15.0, -4.0, -15.0, 10.0, -15.0, 2.0, -15.0, -15.0, -15.0, 0.0, -15.0, -6.0, -2.0, -10.0, -2.0, -16.0, -15.0, -15.0, -15.0, -102.0, -37.0, -18.0, -15.0, -15.0, -15.0, -15.0, -4.0, -15.0, -15.0, -15.0, -4.0, 0.0, -15.0, -40.0, -15.0, -22.0, -15.0, 0.0, -42.0, -15.0, -42.0, -46.0, -15.0, 0.0, -15.0, 4.0, -8.0, -15.0, 0.0, -10.0, -4.0, -15.0, 0.0, -15.0, 2.0, -18.0, -15.0, -15.0, -34.0, -4.0, 2.0, -4.0, -15.0, -2.0, -15.0, -15.0, -15.0, -15.0, 0.0, -15.0, -8.0, -15.0, -26.0, -15.0, -15.0, 0.0, -15.0, -4.0, -15.0, -15.0, -38.0, 2.0, 6.0, -15.0, -56.0, 2.0, -12.0, -22.0, -15.0, -14.0, 0.0, 0.0, 0.0, -15.0, 0.0, 0.0, -15.0, -15.0, -18.0, -15.0, -15.0, -4.0, -15.0, 2.0, -15.0, 6.0, -15.0, -44.0, -15.0, -15.0, -4.0, -28.0, 0.0, -15.0, -15.0, -15.0, -15.0, 2.0, -15.0, -14.0, -42.0, -15.0, -14.0, -20.0, -15.0, -15.0, -58.0, 0.0, -15.0, -4.0, -15.0, -15.0, -15.0, -4.0, -50.0, -88.0, -15.0, -12.0, -8.0, -15.0, -15.0, -15.0, 0.0, 8.0, -15.0, -15.0, -22.0, 0.0, -15.0, -15.0, -2.0, -3.0, -15.0, -4.0, -15.0, -4.0, -15.0, -12.0, -15.0, -15.0, -38.0, -22.0, -15.0, -15.0, -40.0, -15.0, -30.0, -8.0, -15.0, -58.0, -26.0, -2.0, -15.0, -15.0, -15.0, -15.0, -15.0, -2.0, -15.0, -15.0, -26.0, -15.0, -60.0, -15.0, -15.0, -15.0, -8.0, -15.0, -2.0, -15.0, -16.0, -14.0, -15.0, 0.0, -15.0, -15.0, -38.0, -36.0, -30.0, 0.0, -15.0, -15.0, -15.0, -4.0, -72.0, -15.0, -22.0, -15.0, 6.0, -44.0, -106.0, -15.0, -15.0, -15.0, -15.0, -50.0, -15.0, 0.0, -2.0, -14.0, -15.0, -4.0, 0.0, -15.0, -18.0, -15.0, -15.0, -15.0, -70.0, -34.0, -15.0, -4.0, -10.0, -48.0, -32.0, -22.0, -34.0, -4.0, -15.0, 0.0, -15.0, -4.0, -15.0, -15.0, -15.0, -15.0, -15.0, -4.0, -15.0, -15.0, -15.0, -4.0, -15.0, -6.0, -15.0, 0.0, -52.0, 0.0, -15.0, 0.0, 2.0, -15.0, -15.0, -15.0, -15.0, -15.0, -15.0, -15.0, -15.0, -10.0, -22.0, -15.0]}, 'sampler_perf': {'mean_raw_obs_processing_ms': 0.6477708674568254, 'mean_inference_ms': 1.280652455698856, 'mean_action_processing_ms': 0.13673416844926908, 'mean_env_wait_ms': 0.1227202064358649, 'mean_env_render_ms': 0.0}, 'num_faulty_episodes': 0, 'connector_metrics': {'ObsPreprocessorConnector_ms': 0.006435500125817453, 'StateBufferConnector_ms': 0.01032065331865511, 'ViewRequirementAgentConnector_ms': 0.24968862815055262}, 'num_healthy_workers': 8, 'num_in_flight_async_reqs': 0, 'num_remote_worker_restarts': 0, 'num_agent_steps_sampled': 2483992, 'num_agent_steps_trained': 2483992, 'num_env_steps_sampled': 2484000, 'num_env_steps_trained': 2484000, 'num_env_steps_sampled_this_iter': 4000, 'num_env_steps_trained_this_iter': 4000, 'num_env_steps_sampled_throughput_per_sec': 340.3139493190066, 'num_env_steps_trained_throughput_per_sec': 340.3139493190066, 'num_steps_trained_this_iter': 4000, 'agent_timesteps_total': 2483992, 'timers': {'training_iteration_time_ms': 10616.552, 'sample_time_ms': 1079.37, 'learn_time_ms': 9527.623, 'learn_throughput': 419.832, 'synch_weights_time_ms': 9.209}, 'counters': {'num_env_steps_sampled': 2484000, 'num_env_steps_trained': 2484000, 'num_agent_steps_sampled': 2483992, 'num_agent_steps_trained': 2483992}, 'done': False, 'trial_id': '5ba33_00000', 'perf': {'cpu_util_percent': 3.93125, 'ram_util_percent': 73.025}, 'experiment_tag': '0'},\n",
       "    path='c://\\\\Users\\\\nYoshiaki\\\\ray_results\\\\PPO\\\\PPO_othello_5ba33_00000_0_2023-08-15_11-06-33',\n",
       "    checkpoint=Checkpoint(uri=c://\\Users\\nYoshiaki\\ray_results\\PPO\\PPO_othello_5ba33_00000_0_2023-08-15_11-06-33\\checkpoint_000600)\n",
       "  )\n",
       "]>"
      ]
     },
     "execution_count": 8,
     "metadata": {},
     "output_type": "execute_result"
    }
   ],
   "source": [
    "results"
   ]
  },
  {
   "cell_type": "code",
   "execution_count": 9,
   "metadata": {},
   "outputs": [
    {
     "name": "stdout",
     "output_type": "stream",
     "text": [
      "Checkpoint(uri=c://\\Users\\nYoshiaki\\ray_results\\PPO\\PPO_othello_5ba33_00000_0_2023-08-15_11-06-33\\checkpoint_000600)\n"
     ]
    }
   ],
   "source": [
    "checkpoint = results.get_best_result().checkpoint\n",
    "print(checkpoint)"
   ]
  },
  {
   "cell_type": "code",
   "execution_count": 10,
   "metadata": {},
   "outputs": [],
   "source": [
    "import ray\n",
    "ray.shutdown()\n",
    "register_env(\"othello\", lambda _: OthelloEnv({}))"
   ]
  },
  {
   "cell_type": "code",
   "execution_count": 11,
   "metadata": {},
   "outputs": [
    {
     "name": "stderr",
     "output_type": "stream",
     "text": [
      "2023-08-15 13:00:38,989\tWARNING algorithm_config.py:2558 -- Setting `exploration_config={}` because you set `_enable_rl_module_api=True`. When RLModule API are enabled, exploration_config can not be set. If you want to implement custom exploration behaviour, please modify the `forward_exploration` method of the RLModule at hand. On configs that have a default exploration config, this must be done with `config.exploration_config={}`.\n",
      "c:\\Users\\nYoshiaki\\AppData\\Local\\miniconda3\\envs\\rl\\lib\\site-packages\\ray\\rllib\\algorithms\\algorithm.py:484: RayDeprecationWarning: This API is deprecated and may be removed in future Ray releases. You could suppress this warning by setting env variable PYTHONWARNINGS=\"ignore::DeprecationWarning\"\n",
      "`UnifiedLogger` will be removed in Ray 2.7.\n",
      "  return UnifiedLogger(config, logdir, loggers=None)\n",
      "c:\\Users\\nYoshiaki\\AppData\\Local\\miniconda3\\envs\\rl\\lib\\site-packages\\ray\\tune\\logger\\unified.py:53: RayDeprecationWarning: This API is deprecated and may be removed in future Ray releases. You could suppress this warning by setting env variable PYTHONWARNINGS=\"ignore::DeprecationWarning\"\n",
      "The `JsonLogger interface is deprecated in favor of the `ray.tune.json.JsonLoggerCallback` interface and will be removed in Ray 2.7.\n",
      "  self._loggers.append(cls(self.config, self.logdir, self.trial))\n",
      "c:\\Users\\nYoshiaki\\AppData\\Local\\miniconda3\\envs\\rl\\lib\\site-packages\\ray\\tune\\logger\\unified.py:53: RayDeprecationWarning: This API is deprecated and may be removed in future Ray releases. You could suppress this warning by setting env variable PYTHONWARNINGS=\"ignore::DeprecationWarning\"\n",
      "The `CSVLogger interface is deprecated in favor of the `ray.tune.csv.CSVLoggerCallback` interface and will be removed in Ray 2.7.\n",
      "  self._loggers.append(cls(self.config, self.logdir, self.trial))\n",
      "c:\\Users\\nYoshiaki\\AppData\\Local\\miniconda3\\envs\\rl\\lib\\site-packages\\ray\\tune\\logger\\unified.py:53: RayDeprecationWarning: This API is deprecated and may be removed in future Ray releases. You could suppress this warning by setting env variable PYTHONWARNINGS=\"ignore::DeprecationWarning\"\n",
      "The `TBXLogger interface is deprecated in favor of the `ray.tune.tensorboardx.TBXLoggerCallback` interface and will be removed in Ray 2.7.\n",
      "  self._loggers.append(cls(self.config, self.logdir, self.trial))\n",
      "2023-08-15 13:00:41,809\tINFO worker.py:1621 -- Started a local Ray instance.\n",
      "\u001b[2m\u001b[36m(pid=23864)\u001b[0m DeprecationWarning: `DirectStepOptimizer` has been deprecated. This will raise an error in the future!\n",
      "\u001b[2m\u001b[36m(RolloutWorker pid=23864)\u001b[0m 2023-08-15 13:00:50,256\tWARNING multi_agent_env.py:274 -- observation_space_sample() of <OthelloEnv instance> has not been implemented. You can either implement it yourself or bring the observation space into the preferred format of a mapping from agent ids to their individual observation spaces. \n",
      "\u001b[2m\u001b[36m(RolloutWorker pid=23864)\u001b[0m 2023-08-15 13:00:50,256\tWARNING multi_agent_env.py:169 -- observation_space_contains() of <OthelloEnv instance> has not been implemented. You can either implement it yourself or bring the observation space into the preferred format of a mapping from agent ids to their individual observation spaces. \n",
      "\u001b[2m\u001b[36m(RolloutWorker pid=23864)\u001b[0m 2023-08-15 13:00:50,256\tWARNING multi_agent_env.py:169 -- observation_space_contains() of <OthelloEnv instance> has not been implemented. You can either implement it yourself or bring the observation space into the preferred format of a mapping from agent ids to their individual observation spaces. \n",
      "\u001b[2m\u001b[36m(RolloutWorker pid=23864)\u001b[0m 2023-08-15 13:00:50,256\tWARNING multi_agent_env.py:169 -- observation_space_contains() of <OthelloEnv instance> has not been implemented. You can either implement it yourself or bring the observation space into the preferred format of a mapping from agent ids to their individual observation spaces. \n",
      "\u001b[2m\u001b[36m(RolloutWorker pid=23864)\u001b[0m 2023-08-15 13:00:50,256\tWARNING multi_agent_env.py:237 -- action_space_sample() of <OthelloEnv instance> has not been implemented. You can either implement it yourself or bring the observation space into the preferred format of a mapping from agent ids to their individual observation spaces.\n",
      "\u001b[2m\u001b[36m(RolloutWorker pid=23864)\u001b[0m 2023-08-15 13:00:50,256\tWARNING multi_agent_env.py:199 -- action_space_contains() of <OthelloEnv instance> has not been implemented. You can either implement it yourself or bring the observation space into the preferred format of a mapping from agent ids to their individual observation spaces. \n",
      "\u001b[2m\u001b[36m(RolloutWorker pid=23864)\u001b[0m 2023-08-15 13:00:50,257\tWARNING multi_agent_env.py:169 -- observation_space_contains() of <OthelloEnv instance> has not been implemented. You can either implement it yourself or bring the observation space into the preferred format of a mapping from agent ids to their individual observation spaces. \n",
      "\u001b[2m\u001b[36m(RolloutWorker pid=23864)\u001b[0m 2023-08-15 13:00:50,260\tWARNING algorithm_config.py:2558 -- Setting `exploration_config={}` because you set `_enable_rl_module_api=True`. When RLModule API are enabled, exploration_config can not be set. If you want to implement custom exploration behaviour, please modify the `forward_exploration` method of the RLModule at hand. On configs that have a default exploration config, this must be done with `config.exploration_config={}`.\n",
      "\u001b[2m\u001b[36m(RolloutWorker pid=23864)\u001b[0m 2023-08-15 13:00:50,265\tWARNING deprecation.py:50 -- DeprecationWarning: `ray.rllib.models.torch.fcnet.FullyConnectedNetwork` has been deprecated. This will raise an error in the future!\n",
      "\u001b[2m\u001b[36m(RolloutWorker pid=23864)\u001b[0m 2023-08-15 13:00:50,265\tWARNING deprecation.py:50 -- DeprecationWarning: `ray.rllib.models.torch.torch_modelv2.TorchModelV2` has been deprecated. Use `ray.rllib.core.rl_module.rl_module.RLModule` instead. This will raise an error in the future!\n",
      "\u001b[2m\u001b[36m(RolloutWorker pid=23864)\u001b[0m 2023-08-15 13:00:50,280\tWARNING deprecation.py:50 -- DeprecationWarning: `StochasticSampling` has been deprecated. This will raise an error in the future!\n",
      "\u001b[2m\u001b[36m(RolloutWorker pid=23864)\u001b[0m 2023-08-15 13:00:50,280\tWARNING deprecation.py:50 -- DeprecationWarning: `Exploration` has been deprecated. This will raise an error in the future!\n",
      "\u001b[2m\u001b[36m(RolloutWorker pid=23864)\u001b[0m 2023-08-15 13:00:50,280\tWARNING deprecation.py:50 -- DeprecationWarning: `Random` has been deprecated. This will raise an error in the future!\n",
      "\u001b[2m\u001b[36m(RolloutWorker pid=23864)\u001b[0m 2023-08-15 13:00:50,280\tWARNING deprecation.py:50 -- DeprecationWarning: `ValueNetworkMixin` has been deprecated. This will raise an error in the future!\n",
      "\u001b[2m\u001b[36m(RolloutWorker pid=23864)\u001b[0m 2023-08-15 13:00:50,281\tWARNING deprecation.py:50 -- DeprecationWarning: `LearningRateSchedule` has been deprecated. This will raise an error in the future!\n",
      "\u001b[2m\u001b[36m(RolloutWorker pid=23864)\u001b[0m 2023-08-15 13:00:50,281\tWARNING deprecation.py:50 -- DeprecationWarning: `EntropyCoeffSchedule` has been deprecated. This will raise an error in the future!\n",
      "\u001b[2m\u001b[36m(RolloutWorker pid=23864)\u001b[0m 2023-08-15 13:00:50,281\tWARNING deprecation.py:50 -- DeprecationWarning: `KLCoeffMixin` has been deprecated. This will raise an error in the future!\n",
      "\u001b[2m\u001b[36m(RolloutWorker pid=23864)\u001b[0m 2023-08-15 13:00:50,284\tWARNING deprecation.py:50 -- DeprecationWarning: `ray.rllib.models.torch.torch_action_dist.TorchDistributionWrapper` has been deprecated. Use `ray.rllib.models.torch.torch_distributions.TorchCategorical` instead. This will raise an error in the future!\n",
      "2023-08-15 13:00:50,556\tWARNING algorithm_config.py:2558 -- Setting `exploration_config={}` because you set `_enable_rl_module_api=True`. When RLModule API are enabled, exploration_config can not be set. If you want to implement custom exploration behaviour, please modify the `forward_exploration` method of the RLModule at hand. On configs that have a default exploration config, this must be done with `config.exploration_config={}`.\n",
      "2023-08-15 13:00:50,561\tWARNING deprecation.py:50 -- DeprecationWarning: `ray.rllib.models.torch.fcnet.FullyConnectedNetwork` has been deprecated. This will raise an error in the future!\n",
      "2023-08-15 13:00:50,562\tWARNING deprecation.py:50 -- DeprecationWarning: `ray.rllib.models.torch.torch_modelv2.TorchModelV2` has been deprecated. Use `ray.rllib.core.rl_module.rl_module.RLModule` instead. This will raise an error in the future!\n",
      "2023-08-15 13:00:50,599\tWARNING deprecation.py:50 -- DeprecationWarning: `StochasticSampling` has been deprecated. This will raise an error in the future!\n",
      "2023-08-15 13:00:50,600\tWARNING deprecation.py:50 -- DeprecationWarning: `Exploration` has been deprecated. This will raise an error in the future!\n",
      "2023-08-15 13:00:50,601\tWARNING deprecation.py:50 -- DeprecationWarning: `Random` has been deprecated. This will raise an error in the future!\n",
      "2023-08-15 13:00:50,602\tWARNING deprecation.py:50 -- DeprecationWarning: `ValueNetworkMixin` has been deprecated. This will raise an error in the future!\n",
      "2023-08-15 13:00:50,602\tWARNING deprecation.py:50 -- DeprecationWarning: `LearningRateSchedule` has been deprecated. This will raise an error in the future!\n",
      "2023-08-15 13:00:50,603\tWARNING deprecation.py:50 -- DeprecationWarning: `EntropyCoeffSchedule` has been deprecated. This will raise an error in the future!\n",
      "2023-08-15 13:00:50,604\tWARNING deprecation.py:50 -- DeprecationWarning: `KLCoeffMixin` has been deprecated. This will raise an error in the future!\n",
      "2023-08-15 13:00:50,625\tWARNING deprecation.py:50 -- DeprecationWarning: `ray.rllib.models.torch.torch_action_dist.TorchDistributionWrapper` has been deprecated. Use `ray.rllib.models.torch.torch_distributions.TorchCategorical` instead. This will raise an error in the future!\n",
      "2023-08-15 13:00:50,681\tINFO trainable.py:172 -- Trainable.setup took 11.685 seconds. If your trainable is slow to initialize, consider setting reuse_actors=True to reduce actor creation overheads.\n",
      "2023-08-15 13:00:50,683\tWARNING util.py:68 -- Install gputil for GPU system monitoring.\n",
      "2023-08-15 13:00:50,699\tINFO checkpoint.py:580 -- Downloading checkpoint from c://\\Users\\nYoshiaki\\ray_results\\PPO\\PPO_othello_5ba33_00000_0_2023-08-15_11-06-33\\checkpoint_000600 to C:\\Users\\NYOSHI~1\\AppData\\Local\\Temp\\checkpoint_tmp_58cf73b111d15b7596923e55e4833728 ...\n",
      "2023-08-15 13:00:50,757\tWARNING algorithm_config.py:2558 -- Setting `exploration_config={}` because you set `_enable_rl_module_api=True`. When RLModule API are enabled, exploration_config can not be set. If you want to implement custom exploration behaviour, please modify the `forward_exploration` method of the RLModule at hand. On configs that have a default exploration config, this must be done with `config.exploration_config={}`.\n",
      "2023-08-15 13:00:50,758\tWARNING algorithm_config.py:2572 -- Setting `exploration_config={'type': 'StochasticSampling'}` because you set `_enable_rl_module_api=False`. This exploration config was restored from a prior exploration config that was overriden when setting `_enable_rl_module_api=True`. This occurs because when RLModule API are enabled, exploration_config can not be set.\n",
      "2023-08-15 13:00:50,759\tWARNING algorithm_config.py:656 -- Cannot create PPOConfig from given `config_dict`! Property __stdout_file__ not supported.\n",
      "2023-08-15 13:00:50,831\tINFO trainable.py:904 -- Restored on 127.0.0.1 from checkpoint: C:\\Users\\NYOSHI~1\\AppData\\Local\\Temp\\checkpoint_tmp_58cf73b111d15b7596923e55e4833728\n",
      "2023-08-15 13:00:50,831\tINFO trainable.py:913 -- Current state after restoring: {'_iteration': 600, '_timesteps_total': None, '_time_total': 6505.8322558403015, '_episodes_total': 358351}\n"
     ]
    }
   ],
   "source": [
    "config.expolore = False\n",
    "algo = config.build()\n",
    "algo.restore(checkpoint)"
   ]
  },
  {
   "cell_type": "code",
   "execution_count": 13,
   "metadata": {},
   "outputs": [
    {
     "name": "stdout",
     "output_type": "stream",
     "text": [
      "============= Diagnostic Run torch.onnx.export version 2.0.1+cu118 =============\n",
      "verbose: False, log level: Level.ERROR\n",
      "======================= 0 NONE 0 NOTE 0 WARNING 0 ERROR ========================\n",
      "\n"
     ]
    }
   ],
   "source": [
    "algo.get_policy(\"agent_1\").export_model(\"othello_policy\", onnx=18)"
   ]
  },
  {
   "cell_type": "code",
   "execution_count": 14,
   "metadata": {},
   "outputs": [
    {
     "name": "stdout",
     "output_type": "stream",
     "text": [
      ".|.|.|.|.|.|.|.\n",
      ".|.|.|.|.|.|.|.\n",
      ".|.|.|.|.|.|.|.\n",
      ".|.|.|O|X|.|.|.\n",
      ".|.|.|X|O|.|.|.\n",
      ".|.|.|.|.|.|.|.\n",
      ".|.|.|.|.|.|.|.\n",
      ".|.|.|.|.|.|.|.\n",
      "\n",
      "{'agent_1': 29}\n",
      ".|.|.|.|.|.|.|.\n",
      ".|.|.|.|.|.|.|.\n",
      ".|.|.|.|.|.|.|.\n",
      ".|.|.|O|O|O|.|.\n",
      ".|.|.|X|O|.|.|.\n",
      ".|.|.|.|.|.|.|.\n",
      ".|.|.|.|.|.|.|.\n",
      ".|.|.|.|.|.|.|.\n",
      "\n"
     ]
    },
    {
     "ename": "TypeError",
     "evalue": "object of type 'int' has no len()",
     "output_type": "error",
     "traceback": [
      "\u001b[1;31m---------------------------------------------------------------------------\u001b[0m",
      "\u001b[1;31mTypeError\u001b[0m                                 Traceback (most recent call last)",
      "Cell \u001b[1;32mIn[14], line 11\u001b[0m\n\u001b[0;32m      9\u001b[0m \u001b[39m# action = env.action_space.sample()\u001b[39;00m\n\u001b[0;32m     10\u001b[0m valid_actions \u001b[39m=\u001b[39m env\u001b[39m.\u001b[39mget_valid_moves(current_player)\n\u001b[1;32m---> 11\u001b[0m action \u001b[39m=\u001b[39m algo\u001b[39m.\u001b[39;49mcompute_single_action(obs[current_player], policy_id\u001b[39m=\u001b[39;49mcurrent_player)\n\u001b[0;32m     12\u001b[0m \u001b[39m# if len(valid_actions) > 0:\u001b[39;00m\n\u001b[0;32m     13\u001b[0m \u001b[39m#     action = random.choice(valid_actions)\u001b[39;00m\n\u001b[0;32m     14\u001b[0m \u001b[39m# else:\u001b[39;00m\n\u001b[0;32m     15\u001b[0m \u001b[39m#     action = 64\u001b[39;00m\n\u001b[0;32m     16\u001b[0m action \u001b[39m=\u001b[39m {current_player: action}\n",
      "File \u001b[1;32mc:\\Users\\nYoshiaki\\AppData\\Local\\miniconda3\\envs\\rl\\lib\\site-packages\\ray\\rllib\\algorithms\\algorithm.py:1643\u001b[0m, in \u001b[0;36mAlgorithm.compute_single_action\u001b[1;34m(self, observation, state, prev_action, prev_reward, info, input_dict, policy_id, full_fetch, explore, timestep, episode, unsquash_action, clip_action, **kwargs)\u001b[0m\n\u001b[0;32m   1635\u001b[0m     action, state, extra \u001b[39m=\u001b[39m policy\u001b[39m.\u001b[39mcompute_single_action(\n\u001b[0;32m   1636\u001b[0m         input_dict\u001b[39m=\u001b[39minput_dict,\n\u001b[0;32m   1637\u001b[0m         explore\u001b[39m=\u001b[39mexplore,\n\u001b[0;32m   1638\u001b[0m         timestep\u001b[39m=\u001b[39mtimestep,\n\u001b[0;32m   1639\u001b[0m         episode\u001b[39m=\u001b[39mepisode,\n\u001b[0;32m   1640\u001b[0m     )\n\u001b[0;32m   1641\u001b[0m \u001b[39m# Individual args.\u001b[39;00m\n\u001b[0;32m   1642\u001b[0m \u001b[39melse\u001b[39;00m:\n\u001b[1;32m-> 1643\u001b[0m     action, state, extra \u001b[39m=\u001b[39m policy\u001b[39m.\u001b[39;49mcompute_single_action(\n\u001b[0;32m   1644\u001b[0m         obs\u001b[39m=\u001b[39;49mobservation,\n\u001b[0;32m   1645\u001b[0m         state\u001b[39m=\u001b[39;49mstate,\n\u001b[0;32m   1646\u001b[0m         prev_action\u001b[39m=\u001b[39;49mprev_action,\n\u001b[0;32m   1647\u001b[0m         prev_reward\u001b[39m=\u001b[39;49mprev_reward,\n\u001b[0;32m   1648\u001b[0m         info\u001b[39m=\u001b[39;49minfo,\n\u001b[0;32m   1649\u001b[0m         explore\u001b[39m=\u001b[39;49mexplore,\n\u001b[0;32m   1650\u001b[0m         timestep\u001b[39m=\u001b[39;49mtimestep,\n\u001b[0;32m   1651\u001b[0m         episode\u001b[39m=\u001b[39;49mepisode,\n\u001b[0;32m   1652\u001b[0m     )\n\u001b[0;32m   1654\u001b[0m \u001b[39m# If we work in normalized action space (normalize_actions=True),\u001b[39;00m\n\u001b[0;32m   1655\u001b[0m \u001b[39m# we re-translate here into the env's action space.\u001b[39;00m\n\u001b[0;32m   1656\u001b[0m \u001b[39mif\u001b[39;00m unsquash_action:\n",
      "File \u001b[1;32mc:\\Users\\nYoshiaki\\AppData\\Local\\miniconda3\\envs\\rl\\lib\\site-packages\\ray\\rllib\\policy\\policy.py:567\u001b[0m, in \u001b[0;36mPolicy.compute_single_action\u001b[1;34m(self, obs, state, prev_action, prev_reward, info, input_dict, episode, explore, timestep, **kwargs)\u001b[0m\n\u001b[0;32m    564\u001b[0m \u001b[39m# Normal case: Policy should return (action, state, info) tuple.\u001b[39;00m\n\u001b[0;32m    565\u001b[0m \u001b[39melse\u001b[39;00m:\n\u001b[0;32m    566\u001b[0m     batched_action, state_out, info \u001b[39m=\u001b[39m out\n\u001b[1;32m--> 567\u001b[0m     single_action \u001b[39m=\u001b[39m unbatch(batched_action)\n\u001b[0;32m    568\u001b[0m \u001b[39massert\u001b[39;00m \u001b[39mlen\u001b[39m(single_action) \u001b[39m==\u001b[39m \u001b[39m1\u001b[39m\n\u001b[0;32m    569\u001b[0m single_action \u001b[39m=\u001b[39m single_action[\u001b[39m0\u001b[39m]\n",
      "File \u001b[1;32mc:\\Users\\nYoshiaki\\AppData\\Local\\miniconda3\\envs\\rl\\lib\\site-packages\\ray\\rllib\\utils\\spaces\\space_utils.py:230\u001b[0m, in \u001b[0;36munbatch\u001b[1;34m(batches_struct)\u001b[0m\n\u001b[0;32m    227\u001b[0m flat_batches \u001b[39m=\u001b[39m tree\u001b[39m.\u001b[39mflatten(batches_struct)\n\u001b[0;32m    229\u001b[0m out \u001b[39m=\u001b[39m []\n\u001b[1;32m--> 230\u001b[0m \u001b[39mfor\u001b[39;00m batch_pos \u001b[39min\u001b[39;00m \u001b[39mrange\u001b[39m(\u001b[39mlen\u001b[39;49m(flat_batches[\u001b[39m0\u001b[39;49m])):\n\u001b[0;32m    231\u001b[0m     out\u001b[39m.\u001b[39mappend(\n\u001b[0;32m    232\u001b[0m         tree\u001b[39m.\u001b[39munflatten_as(\n\u001b[0;32m    233\u001b[0m             batches_struct,\n\u001b[0;32m    234\u001b[0m             [flat_batches[i][batch_pos] \u001b[39mfor\u001b[39;00m i \u001b[39min\u001b[39;00m \u001b[39mrange\u001b[39m(\u001b[39mlen\u001b[39m(flat_batches))],\n\u001b[0;32m    235\u001b[0m         )\n\u001b[0;32m    236\u001b[0m     )\n\u001b[0;32m    237\u001b[0m \u001b[39mreturn\u001b[39;00m out\n",
      "\u001b[1;31mTypeError\u001b[0m: object of type 'int' has no len()"
     ]
    }
   ],
   "source": [
    "import random\n",
    "# multiagent environment for othello\n",
    "env = OthelloEnv({})\n",
    "obs, _ = env.reset()\n",
    "terminated = False\n",
    "current_player = \"agent_1\"\n",
    "while not terminated:\n",
    "    env.render()\n",
    "    # action = env.action_space.sample()\n",
    "    valid_actions = env.get_valid_moves(current_player)\n",
    "    action = algo.compute_single_action(obs[current_player], policy_id=current_player)\n",
    "    # if len(valid_actions) > 0:\n",
    "    #     action = random.choice(valid_actions)\n",
    "    # else:\n",
    "    #     action = 64\n",
    "    action = {current_player: action}\n",
    "    print(action)\n",
    "    obs, reward, terminated, truncated, _= env.step(action)\n",
    "    reward = reward[current_player]\n",
    "    terminated = terminated[current_player]\n",
    "    truncated = truncated[current_player]\n",
    "    current_player = env.current_player"
   ]
  },
  {
   "cell_type": "code",
   "execution_count": null,
   "metadata": {},
   "outputs": [
    {
     "name": "stdout",
     "output_type": "stream",
     "text": [
      ".|.|.|.|.|.|.|.\n",
      ".|.|.|.|.|.|.|.\n",
      ".|.|.|.|.|.|.|.\n",
      ".|.|.|O|O|O|.|.\n",
      ".|.|.|X|X|X|.|.\n",
      ".|.|.|.|.|.|.|.\n",
      ".|.|.|.|.|.|.|.\n",
      ".|.|.|.|.|.|.|.\n",
      "\n"
     ]
    }
   ],
   "source": [
    "env.render()"
   ]
  }
 ],
 "metadata": {
  "kernelspec": {
   "display_name": "rl",
   "language": "python",
   "name": "python3"
  },
  "language_info": {
   "codemirror_mode": {
    "name": "ipython",
    "version": 3
   },
   "file_extension": ".py",
   "mimetype": "text/x-python",
   "name": "python",
   "nbconvert_exporter": "python",
   "pygments_lexer": "ipython3",
   "version": "3.8.17"
  },
  "orig_nbformat": 4
 },
 "nbformat": 4,
 "nbformat_minor": 2
}
