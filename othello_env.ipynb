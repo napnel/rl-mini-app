{
 "cells": [
  {
   "cell_type": "code",
   "execution_count": 14,
   "metadata": {},
   "outputs": [],
   "source": [
    "import gymnasium as gym\n",
    "import numpy as np\n",
    "from typing import Any, Dict, List, Tuple, Optional\n",
    "from ray.rllib.env.multi_agent_env import MultiAgentEnv"
   ]
  },
  {
   "cell_type": "code",
   "execution_count": null,
   "metadata": {},
   "outputs": [],
   "source": [
    "from pettingzoo.atari import othello_v3"
   ]
  },
  {
   "cell_type": "code",
   "execution_count": 11,
   "metadata": {},
   "outputs": [],
   "source": [
    "class OthelloEnv(MultiAgentEnv):\n",
    "    def __init__(self, config: Dict[str, Any]):\n",
    "        super(OthelloEnv, self).__init__()\n",
    "\n",
    "        self.action_space = gym.spaces.Discrete(8*8+1)\n",
    "        self.observation_space = gym.spaces.Box(low=0, high=2, shape=(8, 8), dtype=np.int8)\n",
    "\n",
    "        self.reset()\n",
    "\n",
    "    def reset(self, *, seed: Optional[int] = None, options: Optional[Dict[str, Any]] = None):\n",
    "        # Reset the board\n",
    "        self.board = np.zeros((8, 8), dtype=np.int8)\n",
    "        # Initial position\n",
    "        self.board[3][3] = 1\n",
    "        self.board[3][4] = 2\n",
    "        self.board[4][3] = 2\n",
    "        self.board[4][4] = 1\n",
    "        info = {}\n",
    "        return {\"agent_1\": self.board.copy(), \"agent_2\": np.flip(self.board.copy())}, info\n",
    "\n",
    "    def step(self, action_dict: Dict[str, int]):\n",
    "        obs, reward, terminated, truncated, info = {}, {}, {}, {}, {}\n",
    "        for agent, action in action_dict.items():\n",
    "            assert action in range(8*8+1), f\"Invalid action {action} for agent {agent}\"\n",
    "            row, col = divmod(action, 8)\n",
    "            if self.board[row][col] == 0:\n",
    "                self.board[row][col] = 1 if agent == \"agent_1\" else 2\n",
    "            else:\n",
    "                reward[agent] = -1\n",
    "                terminated[agent] = True\n",
    "                truncated[agent] = True\n",
    "\n",
    "        # Calculate the reward as the difference in the number of pieces\n",
    "        reward_agent_1 = np.sum(self.board == 1) - np.sum(self.board == 2)\n",
    "        reward_agent_2 = np.sum(self.board == 2) - np.sum(self.board == 1)\n",
    "        reward = {\"agent_1\": reward_agent_1, \"agent_2\": reward_agent_2}\n",
    "\n",
    "        # Check if the game is over\n",
    "        # The game is over if all squares are filled or if there are no valid moves for both players\n",
    "        # TODO: Check for valid moves\n",
    "        done = {\"__all__\": np.all(self.board != 0)}\n",
    "\n",
    "        # No additional info to supply\n",
    "        info = {\"agent_1\": {}, \"agent_2\": {}}\n",
    "\n",
    "        return {\"agent_1\": self.board.copy(), \"agent_2\": np.flip(self.board.copy())}, reward, done, info\n",
    "\n",
    "    def render(self):\n",
    "        # Define the mapping from numbers to characters\n",
    "        piece_dict = {0: '.', -1: 'O', 1: 'X'}\n",
    "        \n",
    "        # Create an empty string to store the game board\n",
    "        board_str = ''\n",
    "        \n",
    "        # Iterate over the rows of the board\n",
    "        for row in self.board:\n",
    "            # Convert the row to characters and join them with '|'\n",
    "            row_str = '|'.join(piece_dict[i] for i in row)\n",
    "            # Add the row string to the game board string\n",
    "            board_str += row_str + '\\n'\n",
    "        \n",
    "        # Print the game board string\n",
    "        print(board_str)"
   ]
  },
  {
   "cell_type": "code",
   "execution_count": 12,
   "metadata": {},
   "outputs": [
    {
     "data": {
      "text/plain": [
       "{'agent_1': array([[0, 0, 0, 0, 0, 0, 0, 0],\n",
       "        [0, 0, 0, 0, 0, 0, 0, 0],\n",
       "        [0, 0, 0, 0, 0, 0, 0, 0],\n",
       "        [0, 0, 0, 1, 2, 0, 0, 0],\n",
       "        [0, 0, 0, 2, 1, 0, 0, 0],\n",
       "        [0, 0, 0, 0, 0, 0, 0, 0],\n",
       "        [0, 0, 0, 0, 0, 0, 0, 0],\n",
       "        [0, 0, 0, 0, 0, 0, 0, 0]], dtype=int8),\n",
       " 'agent_2': array([[0, 0, 0, 0, 0, 0, 0, 0],\n",
       "        [0, 0, 0, 0, 0, 0, 0, 0],\n",
       "        [0, 0, 0, 0, 0, 0, 0, 0],\n",
       "        [0, 0, 0, 1, 2, 0, 0, 0],\n",
       "        [0, 0, 0, 2, 1, 0, 0, 0],\n",
       "        [0, 0, 0, 0, 0, 0, 0, 0],\n",
       "        [0, 0, 0, 0, 0, 0, 0, 0],\n",
       "        [0, 0, 0, 0, 0, 0, 0, 0]], dtype=int8)}"
      ]
     },
     "execution_count": 12,
     "metadata": {},
     "output_type": "execute_result"
    }
   ],
   "source": [
    "env = OthelloEnv({})\n",
    "env.reset()"
   ]
  },
  {
   "cell_type": "code",
   "execution_count": 13,
   "metadata": {},
   "outputs": [
    {
     "data": {
      "text/plain": [
       "numpy.int8"
      ]
     },
     "execution_count": 13,
     "metadata": {},
     "output_type": "execute_result"
    }
   ],
   "source": [
    "np.int8"
   ]
  },
  {
   "cell_type": "code",
   "execution_count": 16,
   "metadata": {},
   "outputs": [
    {
     "data": {
      "text/plain": [
       "(4, 0)"
      ]
     },
     "execution_count": 16,
     "metadata": {},
     "output_type": "execute_result"
    }
   ],
   "source": [
    "divmod(32, 8)"
   ]
  },
  {
   "cell_type": "code",
   "execution_count": 17,
   "metadata": {},
   "outputs": [
    {
     "data": {
      "text/plain": [
       "(6, 6)"
      ]
     },
     "execution_count": 17,
     "metadata": {},
     "output_type": "execute_result"
    }
   ],
   "source": [
    "divmod(54, 8)"
   ]
  },
  {
   "cell_type": "code",
   "execution_count": null,
   "metadata": {},
   "outputs": [],
   "source": []
  }
 ],
 "metadata": {
  "kernelspec": {
   "display_name": "rl",
   "language": "python",
   "name": "python3"
  },
  "language_info": {
   "codemirror_mode": {
    "name": "ipython",
    "version": 3
   },
   "file_extension": ".py",
   "mimetype": "text/x-python",
   "name": "python",
   "nbconvert_exporter": "python",
   "pygments_lexer": "ipython3",
   "version": "3.8.17"
  },
  "orig_nbformat": 4
 },
 "nbformat": 4,
 "nbformat_minor": 2
}
